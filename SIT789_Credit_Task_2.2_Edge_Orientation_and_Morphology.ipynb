{
 "cells": [
  {
   "cell_type": "code",
   "execution_count": 1,
   "id": "739fe8e6",
   "metadata": {},
   "outputs": [
    {
     "name": "stderr",
     "output_type": "stream",
     "text": [
      "\n",
      "Bad key text.latex.preview in file C:\\Users\\shane\\Anaconda3\\lib\\site-packages\\matplotlib\\mpl-data\\stylelib\\_classic_test.mplstyle, line 123 ('text.latex.preview : False')\n",
      "You probably need to get an updated matplotlibrc file from\n",
      "https://github.com/matplotlib/matplotlib/blob/v3.5.2/matplotlibrc.template\n",
      "or from the matplotlib source distribution\n",
      "\n",
      "Bad key mathtext.fallback_to_cm in file C:\\Users\\shane\\Anaconda3\\lib\\site-packages\\matplotlib\\mpl-data\\stylelib\\_classic_test.mplstyle, line 155 ('mathtext.fallback_to_cm : True  # When True, use symbols from the Computer Modern')\n",
      "You probably need to get an updated matplotlibrc file from\n",
      "https://github.com/matplotlib/matplotlib/blob/v3.5.2/matplotlibrc.template\n",
      "or from the matplotlib source distribution\n",
      "\n",
      "Bad key savefig.jpeg_quality in file C:\\Users\\shane\\Anaconda3\\lib\\site-packages\\matplotlib\\mpl-data\\stylelib\\_classic_test.mplstyle, line 418 ('savefig.jpeg_quality: 95       # when a jpeg is saved, the default quality parameter.')\n",
      "You probably need to get an updated matplotlibrc file from\n",
      "https://github.com/matplotlib/matplotlib/blob/v3.5.2/matplotlibrc.template\n",
      "or from the matplotlib source distribution\n",
      "\n",
      "Bad key keymap.all_axes in file C:\\Users\\shane\\Anaconda3\\lib\\site-packages\\matplotlib\\mpl-data\\stylelib\\_classic_test.mplstyle, line 466 ('keymap.all_axes : a                 # enable all axes')\n",
      "You probably need to get an updated matplotlibrc file from\n",
      "https://github.com/matplotlib/matplotlib/blob/v3.5.2/matplotlibrc.template\n",
      "or from the matplotlib source distribution\n",
      "\n",
      "Bad key animation.avconv_path in file C:\\Users\\shane\\Anaconda3\\lib\\site-packages\\matplotlib\\mpl-data\\stylelib\\_classic_test.mplstyle, line 477 ('animation.avconv_path: avconv     # Path to avconv binary. Without full path')\n",
      "You probably need to get an updated matplotlibrc file from\n",
      "https://github.com/matplotlib/matplotlib/blob/v3.5.2/matplotlibrc.template\n",
      "or from the matplotlib source distribution\n",
      "\n",
      "Bad key animation.avconv_args in file C:\\Users\\shane\\Anaconda3\\lib\\site-packages\\matplotlib\\mpl-data\\stylelib\\_classic_test.mplstyle, line 479 ('animation.avconv_args:            # Additional arguments to pass to avconv')\n",
      "You probably need to get an updated matplotlibrc file from\n",
      "https://github.com/matplotlib/matplotlib/blob/v3.5.2/matplotlibrc.template\n",
      "or from the matplotlib source distribution\n"
     ]
    }
   ],
   "source": [
    "import numpy as np\n",
    "import math\n",
    "import cv2 as cv\n",
    "from matplotlib import pyplot as plt\n",
    "img = cv.imread('fisherman.jpg') #load image\n",
    "img_gray = cv.cvtColor(img, cv.COLOR_BGR2GRAY)"
   ]
  },
  {
   "cell_type": "markdown",
   "id": "812c236d",
   "metadata": {},
   "source": [
    "### Calculating Edge Orientation for Fisherman"
   ]
  },
  {
   "cell_type": "code",
   "execution_count": 2,
   "id": "3ebd432c",
   "metadata": {},
   "outputs": [],
   "source": [
    "D_x = np.float32([[-1, 0, 1], [-2, 0, 2], [-1, 0, 1]]) / 8\n",
    "der_x = cv.filter2D(img_gray, cv.CV_32F, D_x)"
   ]
  },
  {
   "cell_type": "code",
   "execution_count": 3,
   "id": "a4693da4",
   "metadata": {},
   "outputs": [],
   "source": [
    "D_y = np.float32([[-1, -2, -1], [0, 0, 0], [1, 2, 1]]) / 8\n",
    "der_y = cv.filter2D(img_gray, cv.CV_32F, D_y)"
   ]
  },
  {
   "cell_type": "code",
   "execution_count": 4,
   "id": "aa01d7c7",
   "metadata": {
    "scrolled": true
   },
   "outputs": [],
   "source": [
    "height, width = img_gray.shape\n",
    "ori_img_gray = np.zeros((height, width), np.float32) #gradient orientation of img_gray"
   ]
  },
  {
   "cell_type": "code",
   "execution_count": 5,
   "id": "a44b9c5d",
   "metadata": {},
   "outputs": [],
   "source": [
    "for i in range(0, height):\n",
    "    for j in range(0, width):\n",
    "        if der_x[i,j] == 0:\n",
    "            if der_y[i,j] == 0:\n",
    "                x = math.inf\n",
    "                ori_img_gray[i, j] = x\n",
    "            else:\n",
    "                y = math.atan2(der_y[i, j], der_x[i, j]) \n",
    "                y1 = ((y * 180)/math.pi)\n",
    "                ori_img_gray[i, j] = y1+90\n",
    "                if ori_img_gray[i, j] <0:\n",
    "                    ori_img_gray[i, j] = ori_img_gray[i, j]+360\n",
    "        else:\n",
    "            y = math.atan2(der_y[i, j], der_x[i, j]) \n",
    "            y1 = ((y * 180)/math.pi)\n",
    "            ori_img_gray[i, j] = y1+90\n",
    "            if ori_img_gray[i, j] <0:\n",
    "                ori_img_gray[i, j] = ori_img_gray[i, j]+360"
   ]
  },
  {
   "cell_type": "code",
   "execution_count": 6,
   "id": "66db22ab",
   "metadata": {
    "scrolled": true
   },
   "outputs": [
    {
     "data": {
      "image/png": "[encoded data removed]",
      "text/plain": [
       "<Figure size 432x288 with 1 Axes>"
      ]
     },
     "metadata": {
      "needs_background": "light"
     },
     "output_type": "display_data"
    }
   ],
   "source": [
    "fisher = cv.calcHist([ori_img_gray],[0],None,[361],(0,360))\n",
    "plt.plot(fisher, color='b')\n",
    "plt.show()"
   ]
  },
  {
   "cell_type": "markdown",
   "id": "bd4e7e5c",
   "metadata": {},
   "source": [
    "### Calculating Edge Orientation for Empire"
   ]
  },
  {
   "cell_type": "code",
   "execution_count": 7,
   "id": "74f66b7a",
   "metadata": {},
   "outputs": [],
   "source": [
    "img1 = cv.imread('empire.jpg') #load image\n",
    "img_gray1 = cv.cvtColor(img1, cv.COLOR_BGR2GRAY)"
   ]
  },
  {
   "cell_type": "code",
   "execution_count": 8,
   "id": "7dae6c29",
   "metadata": {},
   "outputs": [],
   "source": [
    "D_x1 = np.float32([[-1, 0, 1], [-2, 0, 2], [-1, 0, 1]]) / 8\n",
    "der_x1 = cv.filter2D(img_gray1, cv.CV_32F, D_x1)"
   ]
  },
  {
   "cell_type": "code",
   "execution_count": 9,
   "id": "3ce417d9",
   "metadata": {},
   "outputs": [],
   "source": [
    "D_y1 = np.float32([[-1, -2, -1], [0, 0, 0], [1, 2, 1]]) / 8\n",
    "der_y1 = cv.filter2D(img_gray1, cv.CV_32F, D_y1)"
   ]
  },
  {
   "cell_type": "code",
   "execution_count": 10,
   "id": "e097a318",
   "metadata": {},
   "outputs": [],
   "source": [
    "height1, width1 = img_gray1.shape\n",
    "ori_img_gray1 = np.zeros((height1, width1), np.float32) #gradient orientation of img_gray"
   ]
  },
  {
   "cell_type": "code",
   "execution_count": 11,
   "id": "c2281204",
   "metadata": {},
   "outputs": [],
   "source": [
    "for i in range(0, height1):\n",
    "    for j in range(0, width1):\n",
    "        if der_x1[i,j] == 0:\n",
    "            if der_y1[i,j] == 0:\n",
    "                x = math.inf\n",
    "                ori_img_gray1[i, j] = x\n",
    "            else:\n",
    "                y = math.atan2(der_y1[i, j], der_x1[i, j]) \n",
    "                y1 = ((y * 180)/math.pi)\n",
    "                ori_img_gray1[i, j] = y1 + 90\n",
    "                if ori_img_gray1[i, j] <0:\n",
    "                    ori_img_gray1[i, j] = ori_img_gray1[i, j]+360\n",
    "        else:\n",
    "            y = math.atan2(der_y1[i, j], der_x1[i, j]) \n",
    "            y1 = ((y * 180)/math.pi)\n",
    "            ori_img_gray1[i, j] = y1 + 90\n",
    "            if ori_img_gray1[i, j] <0:\n",
    "                ori_img_gray1[i, j] = ori_img_gray1[i, j]+360"
   ]
  },
  {
   "cell_type": "code",
   "execution_count": 12,
   "id": "e8c87b5a",
   "metadata": {},
   "outputs": [
    {
     "data": {
      "image/png": "[encoded data removed]",
      "text/plain": [
       "<Figure size 432x288 with 1 Axes>"
      ]
     },
     "metadata": {
      "needs_background": "light"
     },
     "output_type": "display_data"
    }
   ],
   "source": [
    "emp = cv.calcHist([ori_img_gray1],[0],None,[361],(0,360))\n",
    "plt.plot(emp, color='b')\n",
    "plt.show()"
   ]
  },
  {
   "cell_type": "markdown",
   "id": "8ba7c781",
   "metadata": {},
   "source": [
    "### Applying morphology for document skew estimation"
   ]
  },
  {
   "cell_type": "code",
   "execution_count": 13,
   "id": "e3ce5d85",
   "metadata": {},
   "outputs": [],
   "source": [
    "doc = cv.imread('doc.jpg', 0) #Note that the second parameter of imread is set to 0"
   ]
  },
  {
   "cell_type": "code",
   "execution_count": 14,
   "id": "5b0ed0e6",
   "metadata": {},
   "outputs": [
    {
     "data": {
      "text/plain": [
       "True"
      ]
     },
     "execution_count": 14,
     "metadata": {},
     "output_type": "execute_result"
    }
   ],
   "source": [
    "threshold = 200\n",
    "ret, doc_bin = cv.threshold(doc, threshold, 255, cv.THRESH_BINARY)\n",
    "cv.imwrite('doc_bin.png', doc_bin)"
   ]
  },
  {
   "cell_type": "markdown",
   "id": "bf1b6354",
   "metadata": {},
   "source": [
    "### Morphological transforms for document skew estimation"
   ]
  },
  {
   "cell_type": "code",
   "execution_count": 15,
   "id": "b6dfcabe",
   "metadata": {},
   "outputs": [],
   "source": [
    "closing_se = np.ones((1, 15), np.int) #structuring element for closing"
   ]
  },
  {
   "cell_type": "code",
   "execution_count": 16,
   "id": "8c791170",
   "metadata": {},
   "outputs": [],
   "source": [
    "doc_bin = 255 - doc_bin #convert black/white to white/black"
   ]
  },
  {
   "cell_type": "code",
   "execution_count": 17,
   "id": "d8f92000",
   "metadata": {},
   "outputs": [
    {
     "data": {
      "text/plain": [
       "True"
      ]
     },
     "execution_count": 17,
     "metadata": {},
     "output_type": "execute_result"
    }
   ],
   "source": [
    "closing = cv.morphologyEx(doc_bin, cv.MORPH_CLOSE, closing_se)\n",
    "cv.imwrite('closing.png', closing)"
   ]
  },
  {
   "cell_type": "code",
   "execution_count": 18,
   "id": "0a349305",
   "metadata": {},
   "outputs": [],
   "source": [
    "opening_se = np.ones((8, 8), np.int) #structuring element for opening"
   ]
  },
  {
   "cell_type": "code",
   "execution_count": 19,
   "id": "a41da1cd",
   "metadata": {},
   "outputs": [
    {
     "data": {
      "text/plain": [
       "True"
      ]
     },
     "execution_count": 19,
     "metadata": {},
     "output_type": "execute_result"
    }
   ],
   "source": [
    "opening = cv.morphologyEx(closing, cv.MORPH_OPEN, opening_se)\n",
    "cv.imwrite('opening.png',opening)"
   ]
  },
  {
   "cell_type": "code",
   "execution_count": 20,
   "id": "889e5209",
   "metadata": {},
   "outputs": [],
   "source": [
    "# connected component labelling\n",
    "num_labels, labels_im = cv.connectedComponents(opening)"
   ]
  },
  {
   "cell_type": "code",
   "execution_count": 21,
   "id": "8bb9e189",
   "metadata": {},
   "outputs": [],
   "source": [
    "def ExtractConnectedComponents(num_labels, labels_im):\n",
    "    connected_components = [[] for i in range(0, num_labels)]\n",
    "    height, width = labels_im.shape\n",
    "    for i in range(0, height):\n",
    "        for j in range(0, width):\n",
    "            if labels_im[i, j] >= 0:\n",
    "                connected_components[labels_im[i, j]].append((j, i))\n",
    "    return connected_components"
   ]
  },
  {
   "cell_type": "code",
   "execution_count": 22,
   "id": "15363387",
   "metadata": {},
   "outputs": [],
   "source": [
    "connected_components = ExtractConnectedComponents(num_labels, labels_im)"
   ]
  },
  {
   "cell_type": "code",
   "execution_count": 23,
   "id": "91add52b",
   "metadata": {},
   "outputs": [],
   "source": [
    "import math\n",
    "def FindOrientation(cc):\n",
    "    mx = 0\n",
    "    my = 0\n",
    "    mxx = 0\n",
    "    myy = 0\n",
    "    mxy = 0\n",
    " \n",
    "    for i in range(0, len(cc)):\n",
    "        mx += cc[i][0] # cc[i][0] is used to store the x coordinate of pixel cc[i]\n",
    "        my += cc[i][1] # cc[i][1] is used to store the y coordinate of pixel cc[i]\n",
    "    mx /= len(cc)\n",
    "    my /= len(cc)\n",
    " \n",
    "    for i in range(0, len(cc)):\n",
    "        dx = cc[i][0] - mx\n",
    "        dy = cc[i][1] - my\n",
    "        mxx += (dx * dx)\n",
    "        myy += (dy * dy)\n",
    "        mxy += (dx * dy)\n",
    "    mxx /= len(cc)\n",
    "    myy /= len(cc)\n",
    "    mxy /= len(cc)\n",
    " \n",
    "    theta = - math.atan2(2 * mxy, mxx - myy) / 2\n",
    "    return theta"
   ]
  },
  {
   "cell_type": "code",
   "execution_count": 24,
   "id": "03cfd57b",
   "metadata": {},
   "outputs": [],
   "source": [
    "orientations = np.zeros(num_labels, np.float32)\n",
    "for i in range(0, num_labels):\n",
    " orientations[i] = FindOrientation(connected_components[i])"
   ]
  },
  {
   "cell_type": "code",
   "execution_count": 25,
   "id": "1d92805b",
   "metadata": {},
   "outputs": [],
   "source": [
    "import statistics\n",
    "orientation = statistics.median(orientations)"
   ]
  },
  {
   "cell_type": "code",
   "execution_count": 26,
   "id": "fdc3c00c",
   "metadata": {},
   "outputs": [
    {
     "data": {
      "text/plain": [
       "True"
      ]
     },
     "execution_count": 26,
     "metadata": {},
     "output_type": "execute_result"
    }
   ],
   "source": [
    "# rotate image\n",
    "height, width = doc.shape\n",
    "c_x = (width - 1) / 2.0 # column index varies in [0, width-1]\n",
    "c_y = (height - 1) / 2.0 # row index varies in [0, height-1]\n",
    "c = (c_x, c_y) # A point is defined by x and y coordinate\n",
    "M = cv.getRotationMatrix2D(c, -orientation * 180 / math.pi, 1)\n",
    "doc_deskewed = cv.warpAffine(doc, M, (width, height))\n",
    "cv.imwrite('doc_deskewed.png', doc_deskewed)"
   ]
  },
  {
   "cell_type": "markdown",
   "id": "471c40ef",
   "metadata": {},
   "source": [
    "### doc1 deskew"
   ]
  },
  {
   "cell_type": "code",
   "execution_count": 27,
   "id": "818ad46e",
   "metadata": {},
   "outputs": [],
   "source": [
    "doc1 = cv.imread('doc_1.jpg', 0) #Note that the second parameter of imread is set to 0"
   ]
  },
  {
   "cell_type": "code",
   "execution_count": 28,
   "id": "03446c34",
   "metadata": {},
   "outputs": [],
   "source": [
    "threshold = 200\n",
    "ret1, doc1_bin = cv.threshold(doc1, threshold, 255, cv.THRESH_BINARY)"
   ]
  },
  {
   "cell_type": "code",
   "execution_count": 29,
   "id": "c233e9f1",
   "metadata": {},
   "outputs": [],
   "source": [
    "doc1_bin = 255 - doc1_bin #convert black/white to white/black"
   ]
  },
  {
   "cell_type": "code",
   "execution_count": 31,
   "id": "f9a9dd8f",
   "metadata": {},
   "outputs": [],
   "source": [
    "closing1 = cv.morphologyEx(doc1_bin, cv.MORPH_CLOSE, closing_se)"
   ]
  },
  {
   "cell_type": "code",
   "execution_count": 33,
   "id": "e137a0d1",
   "metadata": {},
   "outputs": [],
   "source": [
    "opening1 = cv.morphologyEx(closing1, cv.MORPH_OPEN, opening_se)"
   ]
  },
  {
   "cell_type": "code",
   "execution_count": 34,
   "id": "67aae6f6",
   "metadata": {},
   "outputs": [],
   "source": [
    "num1_labels, labels1_im = cv.connectedComponents(opening1)"
   ]
  },
  {
   "cell_type": "code",
   "execution_count": 35,
   "id": "15af4c9a",
   "metadata": {},
   "outputs": [],
   "source": [
    "connected1_components = ExtractConnectedComponents(num1_labels, labels1_im)"
   ]
  },
  {
   "cell_type": "code",
   "execution_count": 36,
   "id": "276b5e99",
   "metadata": {},
   "outputs": [],
   "source": [
    "orientations1 = np.zeros(num1_labels, np.float32)\n",
    "for i in range(0, num1_labels):\n",
    "    orientations1[i] = FindOrientation(connected1_components[i])"
   ]
  },
  {
   "cell_type": "code",
   "execution_count": 37,
   "id": "1468fb6c",
   "metadata": {},
   "outputs": [],
   "source": [
    "orientation1 = statistics.median(orientations1)"
   ]
  },
  {
   "cell_type": "code",
   "execution_count": 38,
   "id": "d69e2d8b",
   "metadata": {},
   "outputs": [
    {
     "data": {
      "text/plain": [
       "True"
      ]
     },
     "execution_count": 38,
     "metadata": {},
     "output_type": "execute_result"
    }
   ],
   "source": [
    "# rotate image\n",
    "height, width = doc1.shape\n",
    "c_x1 = (width - 1) / 2.0 # column index varies in [0, width-1]\n",
    "c_y1 = (height - 1) / 2.0 # row index varies in [0, height-1]\n",
    "c1 = (c_x1, c_y1) # A point is defined by x and y coordinate\n",
    "M1 = cv.getRotationMatrix2D(c1, -orientation * 180 / math.pi, 1)\n",
    "doc1_deskewed = cv.warpAffine(doc1, M1, (width, height))\n",
    "cv.imwrite('doc1_deskewed.png',doc1_deskewed)"
   ]
  }
 ],
 "metadata": {
  "kernelspec": {
   "display_name": "Python 3 (ipykernel)",
   "language": "python",
   "name": "python3"
  },
  "language_info": {
   "codemirror_mode": {
    "name": "ipython",
    "version": 3
   },
   "file_extension": ".py",
   "mimetype": "text/x-python",
   "name": "python",
   "nbconvert_exporter": "python",
   "pygments_lexer": "ipython3",
   "version": "3.7.3"
  }
 },
 "nbformat": 4,
 "nbformat_minor": 5
}
