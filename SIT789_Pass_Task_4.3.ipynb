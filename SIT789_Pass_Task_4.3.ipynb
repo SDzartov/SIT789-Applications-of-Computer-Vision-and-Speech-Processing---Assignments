{
 "cells": [
  {
   "cell_type": "code",
   "execution_count": 1,
   "id": "f84830ff",
   "metadata": {},
   "outputs": [
    {
     "name": "stderr",
     "output_type": "stream",
     "text": [
      "C:\\Users\\shane\\Anaconda3\\lib\\site-packages\\numpy\\_distributor_init.py:32: UserWarning: loaded more than 1 DLL from .libs:\n",
      "C:\\Users\\shane\\Anaconda3\\lib\\site-packages\\numpy\\.libs\\libopenblas.IPBC74C7KURV7CB2PKT5Z5FNR3SIBV4J.gfortran-win_amd64.dll\n",
      "C:\\Users\\shane\\Anaconda3\\lib\\site-packages\\numpy\\.libs\\libopenblas.NOIJJG62EMASZI6NYURL6JBKM4EVBGM7.gfortran-win_amd64.dll\n",
      "C:\\Users\\shane\\Anaconda3\\lib\\site-packages\\numpy\\.libs\\libopenblas.XWYDX2IKJW2NMTWSFYNGFUWKQU3LYTCZ.gfortran-win_amd64.dll\n",
      "  stacklevel=1)\n",
      "In C:\\Users\\shane\\Anaconda3\\lib\\site-packages\\matplotlib\\mpl-data\\stylelib\\_classic_test.mplstyle: \n",
      "The text.latex.preview rcparam was deprecated in Matplotlib 3.3 and will be removed two minor releases later.\n",
      "In C:\\Users\\shane\\Anaconda3\\lib\\site-packages\\matplotlib\\mpl-data\\stylelib\\_classic_test.mplstyle: \n",
      "The mathtext.fallback_to_cm rcparam was deprecated in Matplotlib 3.3 and will be removed two minor releases later.\n",
      "In C:\\Users\\shane\\Anaconda3\\lib\\site-packages\\matplotlib\\mpl-data\\stylelib\\_classic_test.mplstyle: Support for setting the 'mathtext.fallback_to_cm' rcParam is deprecated since 3.3 and will be removed two minor releases later; use 'mathtext.fallback : 'cm' instead.\n",
      "In C:\\Users\\shane\\Anaconda3\\lib\\site-packages\\matplotlib\\mpl-data\\stylelib\\_classic_test.mplstyle: \n",
      "The validate_bool_maybe_none function was deprecated in Matplotlib 3.3 and will be removed two minor releases later.\n",
      "In C:\\Users\\shane\\Anaconda3\\lib\\site-packages\\matplotlib\\mpl-data\\stylelib\\_classic_test.mplstyle: \n",
      "The savefig.jpeg_quality rcparam was deprecated in Matplotlib 3.3 and will be removed two minor releases later.\n",
      "In C:\\Users\\shane\\Anaconda3\\lib\\site-packages\\matplotlib\\mpl-data\\stylelib\\_classic_test.mplstyle: \n",
      "The keymap.all_axes rcparam was deprecated in Matplotlib 3.3 and will be removed two minor releases later.\n",
      "In C:\\Users\\shane\\Anaconda3\\lib\\site-packages\\matplotlib\\mpl-data\\stylelib\\_classic_test.mplstyle: \n",
      "The animation.avconv_path rcparam was deprecated in Matplotlib 3.3 and will be removed two minor releases later.\n",
      "In C:\\Users\\shane\\Anaconda3\\lib\\site-packages\\matplotlib\\mpl-data\\stylelib\\_classic_test.mplstyle: \n",
      "The animation.avconv_args rcparam was deprecated in Matplotlib 3.3 and will be removed two minor releases later.\n"
     ]
    }
   ],
   "source": [
    "import numpy as np\n",
    "import os\n",
    "from sklearn.neighbors import KNeighborsClassifier\n",
    "from sklearn import svm\n",
    "import cv2 as cv\n",
    "from sklearn.cluster import KMeans\n",
    "from sklearn.ensemble import AdaBoostClassifier\n",
    "from sklearn.metrics import classification_report,confusion_matrix,accuracy_score\n",
    "import matplotlib.pyplot as plt\n",
    "from sklearn.manifold import MDS\n",
    "from yellowbrick.cluster import InterclusterDistance\n",
    "import sklearn.cluster as skc\n",
    "\n",
    "import warnings\n",
    "warnings.filterwarnings('ignore')\n",
    "%matplotlib inline"
   ]
  },
  {
   "cell_type": "code",
   "execution_count": 2,
   "id": "500840e3",
   "metadata": {},
   "outputs": [],
   "source": [
    "class Dictionary(object):\n",
    "    def __init__(self, name, img_filenames, num_words):\n",
    "        self.name = name #name of your dictionary\n",
    "        self.img_filenames = img_filenames #list of image filenames\n",
    "        self.num_words = num_words #the number of words\n",
    "        self.training_data = [] #this is the training data required by the K-Means algorithm\n",
    "        self.words = [] #list of words, which are the centroids of clusters\n",
    " \n",
    "    def learn(self):\n",
    "        sift = cv.xfeatures2d.SIFT_create()\n",
    "        num_keypoints = [] #this is used to store the number of keypoints in each image\n",
    "        #load training images and compute SIFT descriptors\n",
    "        for filename in self.img_filenames:\n",
    "            img = cv.imread(filename)\n",
    "            img_gray = cv.cvtColor(img, cv.COLOR_BGR2GRAY)\n",
    "            list_des = sift.detectAndCompute(img_gray, None)[1]\n",
    "            if list_des is None:\n",
    "                num_keypoints.append(0)\n",
    "            else:\n",
    "                num_keypoints.append(len(list_des))\n",
    "                for des in list_des:\n",
    "                    self.training_data.append(des)\n",
    "        #cluster SIFT descriptors using K-means algorithm\n",
    "        kmeans = KMeans(self.num_words)\n",
    "        kmeans.fit(self.training_data)\n",
    "        self.words = kmeans.cluster_centers_\n",
    "        #create word histograms for training images\n",
    "        training_word_histograms = [] #list of word histograms of all training images\n",
    "        index = 0\n",
    "        for i in range(0, len(self.img_filenames)):\n",
    "            #for each file, create a histogram\n",
    "            histogram = np.zeros(self.num_words, np.float32)\n",
    "            #if some keypoints exist\n",
    "            if num_keypoints[i] > 0:\n",
    "                for j in range(0, num_keypoints[i]):\n",
    "                    histogram[kmeans.labels_[j + index]] += 1\n",
    "                index += num_keypoints[i]\n",
    "                histogram /= num_keypoints[i]\n",
    "                training_word_histograms.append(histogram)\n",
    "        return training_word_histograms\n",
    " \n",
    "    def create_word_histograms(self, img_filenames):\n",
    "        sift = cv.xfeatures2d.SIFT_create()\n",
    "        histograms = []\n",
    "        for filename in img_filenames:\n",
    "            img = cv.imread(filename)\n",
    "            img_gray = cv.cvtColor(img, cv.COLOR_BGR2GRAY)\n",
    "            descriptors = sift.detectAndCompute(img_gray, None)[1]\n",
    "            histogram = np.zeros(self.num_words, np.float32) #word histogram for the input image\n",
    "            if descriptors is not None:\n",
    "                for des in descriptors:\n",
    "                    #find the best matching word\n",
    "                    min_distance = 1111111 #this can be any large number\n",
    "                    matching_word_ID = -1 #initial matching_word_ID=-1 means no matching\n",
    "                    for i in range(0, self.num_words): #search for the best matching word\n",
    "                        distance = np.linalg.norm(des - self.words[i])\n",
    "                        if distance < min_distance:\n",
    "                            min_distance = distance\n",
    "                            matching_word_ID = i\n",
    "                    histogram[matching_word_ID] += 1\n",
    "                histogram /= len(descriptors) #normalise histogram to frequencies\n",
    "            histograms.append(histogram)\n",
    "        return histograms"
   ]
  },
  {
   "cell_type": "markdown",
   "id": "4b973f90",
   "metadata": {},
   "source": [
    "# SECTION 2.0: BUILDING THE CLASSIFIER"
   ]
  },
  {
   "cell_type": "markdown",
   "id": "1b565d65",
   "metadata": {},
   "source": [
    "## Onboarding Training Data"
   ]
  },
  {
   "cell_type": "code",
   "execution_count": 3,
   "id": "bf229e92",
   "metadata": {},
   "outputs": [],
   "source": [
    "vehicles = ['planes', 'boats', 'cars', 'trains']\n",
    "path = 'datasets/'\n",
    "training_file_names = []\n",
    "training_vehicle_labels = []\n",
    "for i in range(0, len(vehicles)):\n",
    "    sub_path = path + 'train/' + vehicles[i] + '/'\n",
    "    sub_file_names = [os.path.join(sub_path, f) for f in os.listdir(sub_path)]\n",
    "    sub_vehicle_labels = [i] * len(sub_file_names) #create a list of N elements, all are i\n",
    "    training_file_names += sub_file_names\n",
    "    training_vehicle_labels += sub_vehicle_labels\n",
    "training_file_names.sort()\n",
    "training_vehicle_labels.sort()\n",
    "num_words = 50\n",
    "dictionary_name = 'vehicles'\n",
    "dictionary = Dictionary(dictionary_name, training_file_names, num_words)\n",
    "training_word_histograms = dictionary.learn()"
   ]
  },
  {
   "cell_type": "markdown",
   "id": "032a1e90",
   "metadata": {},
   "source": [
    "## Onboarding Validation Data"
   ]
  },
  {
   "cell_type": "code",
   "execution_count": 4,
   "id": "33eda6d5",
   "metadata": {},
   "outputs": [],
   "source": [
    "valid_file_names = []\n",
    "valid_vehicle_labels = []\n",
    "for i in range(0, len(vehicles)):\n",
    "    sub_path = path + 'valid/' + vehicles[i] + '/'\n",
    "    sub_file_names = [os.path.join(sub_path, f) for f in os.listdir(sub_path)]\n",
    "    sub_vehicle_labels = [i] * len(sub_file_names) #create a list of N elements, all are i\n",
    "    valid_file_names += sub_file_names\n",
    "    valid_vehicle_labels += sub_vehicle_labels\n",
    "valid_file_names.sort()\n",
    "valid_vehicle_labels.sort()\n",
    "valid_word_histograms = dictionary.create_word_histograms(valid_file_names)"
   ]
  },
  {
   "cell_type": "markdown",
   "id": "59e09783",
   "metadata": {},
   "source": [
    "## Onboarding Test Data"
   ]
  },
  {
   "cell_type": "code",
   "execution_count": 5,
   "id": "da27a522",
   "metadata": {},
   "outputs": [],
   "source": [
    "test_file_names = []\n",
    "test_vehicle_labels = []\n",
    "for i in range(0, len(vehicles)):\n",
    "    sub_path = path + 'test/' + vehicles[i] + '/'\n",
    "    sub_file_names = [os.path.join(sub_path, f) for f in os.listdir(sub_path)]\n",
    "    sub_vehicle_labels = [i] * len(sub_file_names) #create a list of N elements, all are i\n",
    "    test_file_names += sub_file_names\n",
    "    test_vehicle_labels += sub_vehicle_labels\n",
    "test_file_names.sort()\n",
    "test_vehicle_labels.sort()\n",
    "test_word_histograms = dictionary.create_word_histograms(test_file_names)"
   ]
  },
  {
   "cell_type": "markdown",
   "id": "e66c67bc",
   "metadata": {},
   "source": [
    "### K Value Estimation 1: ELBOW METHOD"
   ]
  },
  {
   "cell_type": "code",
   "execution_count": 6,
   "id": "c6b17268",
   "metadata": {},
   "outputs": [
    {
     "data": {
      "text/plain": [
       "Text(0, 0.5, 'Total Squared Distance')"
      ]
     },
     "execution_count": 6,
     "metadata": {},
     "output_type": "execute_result"
    },
    {
     "data": {
      "image/png": "[encoded data removed]",
      "text/plain": [
       "<Figure size 432x288 with 1 Axes>"
      ]
     },
     "metadata": {
      "needs_background": "light"
     },
     "output_type": "display_data"
    }
   ],
   "source": [
    "import matplotlib.pyplot as plt\n",
    "import sklearn.cluster as skc\n",
    "import warnings\n",
    "warnings.filterwarnings('ignore')\n",
    "%matplotlib inline\n",
    "\n",
    "totSqrdDist=[]\n",
    "kRange=range(1,20,2)\n",
    "for k in kRange:\n",
    "    kmns=skc.KMeans(n_clusters=k)\n",
    "    kmns=kmns.fit(training_word_histograms)\n",
    "    totSqrdDist.append(kmns.inertia_)\n",
    "    \n",
    "plt.plot(kRange,totSqrdDist,'-xk')\n",
    "plt.xlabel(\"Number of clusters\")\n",
    "plt.ylabel(\"Total Squared Distance\")"
   ]
  },
  {
   "cell_type": "code",
   "execution_count": 7,
   "id": "a55b299d",
   "metadata": {},
   "outputs": [
    {
     "data": {
      "image/png": "[encoded data removed]",
      "text/plain": [
       "<Figure size 432x288 with 1 Axes>"
      ]
     },
     "metadata": {
      "needs_background": "light"
     },
     "output_type": "display_data"
    }
   ],
   "source": [
    "Sum_of_squared_distances = []\n",
    "K = range(1,10)\n",
    "for num_clusters in K :\n",
    "    kmeans = KMeans(n_clusters=num_clusters)\n",
    "    kmeans.fit(training_word_histograms)\n",
    "    Sum_of_squared_distances.append(kmeans.inertia_)\n",
    "plt.plot(K, Sum_of_squared_distances,'bx-')\n",
    "plt.xlabel(\"Number of clusters\")\n",
    "plt.ylabel(\"Total Squared Distance\")\n",
    "plt.show()"
   ]
  },
  {
   "cell_type": "markdown",
   "id": "275f281f",
   "metadata": {},
   "source": [
    "### K Value Estimation 2: Silhouette METHOD"
   ]
  },
  {
   "cell_type": "code",
   "execution_count": 8,
   "id": "2ba8dca0",
   "metadata": {},
   "outputs": [
    {
     "data": {
      "image/png": "[encoded data removed]",
      "text/plain": [
       "<Figure size 432x288 with 1 Axes>"
      ]
     },
     "metadata": {
      "needs_background": "light"
     },
     "output_type": "display_data"
    }
   ],
   "source": [
    "from sklearn.metrics import silhouette_score\n",
    "silhouette_avg = []\n",
    "kRange=range(2,10)\n",
    "\n",
    "for k in kRange:\n",
    "    kmeans = KMeans(n_clusters=k)\n",
    "    kmeans.fit(training_word_histograms)\n",
    "    cluster_labels = kmeans.labels_\n",
    "    silhouette_avg.append(silhouette_score(training_word_histograms, cluster_labels))\n",
    "    \n",
    "plt.plot(kRange,silhouette_avg,'bx-')\n",
    "plt.xlabel(\"Number of clusters\")\n",
    "plt.ylabel(\"Total Squared Distance\")\n",
    "plt.show()"
   ]
  },
  {
   "cell_type": "markdown",
   "id": "c21fef2c",
   "metadata": {},
   "source": [
    "### Intercluster Distance Maps"
   ]
  },
  {
   "cell_type": "code",
   "execution_count": 12,
   "id": "f05bd2d2",
   "metadata": {},
   "outputs": [
    {
     "data": {
      "text/plain": [
       "<bound method Visualizer.show of InterclusterDistance(ax=<AxesSubplot:>, estimator=KMeans(n_clusters=4))>"
      ]
     },
     "execution_count": 12,
     "metadata": {},
     "output_type": "execute_result"
    },
    {
     "data": {
      "image/png": "[encoded data removed]",
      "text/plain": [
       "<Figure size 432x288 with 2 Axes>"
      ]
     },
     "metadata": {
      "needs_background": "light"
     },
     "output_type": "display_data"
    }
   ],
   "source": [
    "model = KMeans(4)\n",
    "viz1 = InterclusterDistance(model)\n",
    "viz1.fit(training_word_histograms)\n",
    "viz1.show"
   ]
  },
  {
   "cell_type": "markdown",
   "id": "6436aa08",
   "metadata": {},
   "source": [
    "# SECTION 3.0 BUILDING AND TRAINING CLASSIFIERS"
   ]
  },
  {
   "cell_type": "markdown",
   "id": "23678249",
   "metadata": {},
   "source": [
    "## KNN HYPER TUNING ON VALIDATION "
   ]
  },
  {
   "cell_type": "code",
   "execution_count": 13,
   "id": "48823582",
   "metadata": {},
   "outputs": [
    {
     "name": "stdout",
     "output_type": "stream",
     "text": [
      "Using KNN with various numbers of neighbours:\n",
      "Results when k = 5\n",
      "Accuracy:  0.4666666666666667\n",
      "Confusion matrix:\n",
      "[[30  0  0  0]\n",
      " [11  5  3 11]\n",
      " [ 8  6 11  5]\n",
      " [16  4  0 10]]\n",
      "\n",
      "Results when k = 10\n",
      "Accuracy:  0.5166666666666667\n",
      "Confusion matrix:\n",
      "[[30  0  0  0]\n",
      " [ 7  9  2 12]\n",
      " [ 8  4  9  9]\n",
      " [15  1  0 14]]\n",
      "\n",
      "Results when k = 15\n",
      "Accuracy:  0.5416666666666666\n",
      "Confusion matrix:\n",
      "[[28  0  1  1]\n",
      " [ 8  9  3 10]\n",
      " [ 8  4 10  8]\n",
      " [11  0  1 18]]\n",
      "\n",
      "Results when k = 20\n",
      "Accuracy:  0.5083333333333333\n",
      "Confusion matrix:\n",
      "[[26  0  1  3]\n",
      " [10  7  3 10]\n",
      " [ 8  5  6 11]\n",
      " [ 8  0  0 22]]\n",
      "\n",
      "Results when k = 25\n",
      "Accuracy:  0.49166666666666664\n",
      "Confusion matrix:\n",
      "[[26  0  1  3]\n",
      " [ 4  6  3 17]\n",
      " [ 6  6  7 11]\n",
      " [10  0  0 20]]\n",
      "\n",
      "Results when k = 30\n",
      "Accuracy:  0.5166666666666667\n",
      "Confusion matrix:\n",
      "[[26  0  1  3]\n",
      " [ 7  7  3 13]\n",
      " [ 5  5  6 14]\n",
      " [ 7  0  0 23]]\n",
      "\n"
     ]
    }
   ],
   "source": [
    "print(\"Using KNN with various numbers of neighbours:\")\n",
    "for i in range (5, 35, 5):\n",
    "\n",
    "    num_nearest_neighbours = i \n",
    "    knn = KNeighborsClassifier(n_neighbors = i)\n",
    "    knn.fit(training_word_histograms, training_vehicle_labels)\n",
    "    predicted_vehicle_labels = knn.predict(valid_word_histograms)\n",
    "    cm = confusion_matrix(valid_vehicle_labels, predicted_vehicle_labels)\n",
    "    acc = accuracy_score(valid_vehicle_labels, predicted_vehicle_labels)\n",
    "    print(\"Results when k =\", i)\n",
    "    print(\"Accuracy: \", acc)\n",
    "    print(\"Confusion matrix:\")\n",
    "    print(cm)\n",
    "    print()"
   ]
  },
  {
   "cell_type": "markdown",
   "id": "eb0713c1",
   "metadata": {},
   "source": [
    "## SVM HYPER TUNING ON VALIDATION "
   ]
  },
  {
   "cell_type": "code",
   "execution_count": 14,
   "id": "d0d9ecae",
   "metadata": {},
   "outputs": [
    {
     "name": "stdout",
     "output_type": "stream",
     "text": [
      "Using SVM with various values of C:\n",
      "Results when C = 10\n",
      "Accuracy:  0.5333333333333333\n",
      "Confusion matrix:\n",
      "[[22  0  2  6]\n",
      " [ 0  6  1 23]\n",
      " [ 1  7  8 14]\n",
      " [ 1  1  0 28]]\n",
      "\n",
      "Results when C = 20\n",
      "Accuracy:  0.5583333333333333\n",
      "Confusion matrix:\n",
      "[[23  0  2  5]\n",
      " [ 1  8  2 19]\n",
      " [ 1  8  9 12]\n",
      " [ 2  1  0 27]]\n",
      "\n",
      "Results when C = 30\n",
      "Accuracy:  0.6166666666666667\n",
      "Confusion matrix:\n",
      "[[25  0  2  3]\n",
      " [ 1 12  2 15]\n",
      " [ 1  7 10 12]\n",
      " [ 3  0  0 27]]\n",
      "\n",
      "Results when C = 40\n",
      "Accuracy:  0.6083333333333333\n",
      "Confusion matrix:\n",
      "[[25  0  2  3]\n",
      " [ 1 12  2 15]\n",
      " [ 2  7  9 12]\n",
      " [ 3  0  0 27]]\n",
      "\n",
      "Results when C = 50\n",
      "Accuracy:  0.6083333333333333\n",
      "Confusion matrix:\n",
      "[[25  0  2  3]\n",
      " [ 2 12  3 13]\n",
      " [ 3  9  9  9]\n",
      " [ 3  0  0 27]]\n",
      "\n"
     ]
    }
   ],
   "source": [
    "print(\"Using SVM with various values of C:\")\n",
    "for i in range (10, 60, 10):\n",
    "\n",
    "    svm_classifier = svm.SVC(C = i, kernel = 'linear')\n",
    "    svm_classifier.fit(training_word_histograms, training_vehicle_labels)\n",
    "    predicted_vehicle_labels = svm_classifier.predict(valid_word_histograms)\n",
    "    cm = confusion_matrix(valid_vehicle_labels, predicted_vehicle_labels)\n",
    "    acc = accuracy_score(valid_vehicle_labels, predicted_vehicle_labels)\n",
    "    print(\"Results when C =\", i)\n",
    "    print(\"Accuracy: \", acc)\n",
    "    print(\"Confusion matrix:\")\n",
    "    print(cm)\n",
    "    print()"
   ]
  },
  {
   "cell_type": "markdown",
   "id": "0a96be39",
   "metadata": {},
   "source": [
    "## AdaBoost HYPER TUNING ON VALIDATION "
   ]
  },
  {
   "cell_type": "code",
   "execution_count": 15,
   "id": "339c0130",
   "metadata": {},
   "outputs": [
    {
     "name": "stdout",
     "output_type": "stream",
     "text": [
      "Using AdaBoost with various numbers of weak estimators:\n",
      "Results when number of weak estimators = 50\n",
      "Accuracy:  0.4\n",
      "Confusion matrix:\n",
      "[[17  8  2  3]\n",
      " [ 1 14  5 10]\n",
      " [ 7 11  5  7]\n",
      " [ 4 12  2 12]]\n",
      "\n",
      "Results when number of weak estimators = 100\n",
      "Accuracy:  0.5083333333333333\n",
      "Confusion matrix:\n",
      "[[26  2  1  1]\n",
      " [ 2 18  4  6]\n",
      " [11  6  4  9]\n",
      " [ 5  9  3 13]]\n",
      "\n",
      "Results when number of weak estimators = 150\n",
      "Accuracy:  0.5166666666666667\n",
      "Confusion matrix:\n",
      "[[24  1  2  3]\n",
      " [ 1 20  3  6]\n",
      " [12 10  6  2]\n",
      " [ 6  9  3 12]]\n",
      "\n",
      "Results when number of weak estimators = 200\n",
      "Accuracy:  0.5333333333333333\n",
      "Confusion matrix:\n",
      "[[26  1  3  0]\n",
      " [ 1 21  2  6]\n",
      " [10 10  7  3]\n",
      " [ 7 10  3 10]]\n",
      "\n",
      "Results when number of weak estimators = 250\n",
      "Accuracy:  0.5166666666666667\n",
      "Confusion matrix:\n",
      "[[27  1  2  0]\n",
      " [ 1 18  3  8]\n",
      " [11  8  6  5]\n",
      " [ 6 10  3 11]]\n",
      "\n"
     ]
    }
   ],
   "source": [
    "print(\"Using AdaBoost with various numbers of weak estimators:\")\n",
    "for i in range (50, 300, 50):\n",
    "\n",
    "    adb_classifier = AdaBoostClassifier(n_estimators = i, random_state = 0)\n",
    "    adb_classifier.fit(training_word_histograms, training_vehicle_labels)\n",
    "    predicted_vehicle_labels = adb_classifier.predict(valid_word_histograms)\n",
    "    cm = confusion_matrix(valid_vehicle_labels, predicted_vehicle_labels)\n",
    "    acc = accuracy_score(valid_vehicle_labels, predicted_vehicle_labels)\n",
    "    print(\"Results when number of weak estimators =\", i)\n",
    "    print(\"Accuracy: \", acc)\n",
    "    print(\"Confusion matrix:\")\n",
    "    print(cm)\n",
    "    print()"
   ]
  },
  {
   "cell_type": "markdown",
   "id": "8e2ce2ce",
   "metadata": {},
   "source": [
    "----"
   ]
  },
  {
   "cell_type": "markdown",
   "id": "bc85e482",
   "metadata": {},
   "source": [
    "## SECTION 4.0  Results: Accuracy & Confusion Matrices"
   ]
  },
  {
   "cell_type": "markdown",
   "id": "a4248a6f",
   "metadata": {},
   "source": [
    "From the hyperparameter tuning above, the best hyperparameters we found were:<br>\n",
    "KNN - 15 neighbours<br>\n",
    "SVM - C = 30<br>\n",
    "AdaBoost - 200 weak estimators.<br>"
   ]
  },
  {
   "cell_type": "code",
   "execution_count": 16,
   "id": "f9986719",
   "metadata": {
    "scrolled": true
   },
   "outputs": [
    {
     "name": "stdout",
     "output_type": "stream",
     "text": [
      "[[24  0  0  6]\n",
      " [ 0 11  3 16]\n",
      " [ 5  6 14  5]\n",
      " [ 3  2  1 24]]\n",
      "60.83333333333333\n"
     ]
    }
   ],
   "source": [
    "num_nearest_neighbours = 15 #number of neighbours\n",
    "knn = KNeighborsClassifier(n_neighbors = num_nearest_neighbours)\n",
    "knn.fit(training_word_histograms, training_vehicle_labels)\n",
    "predicted_vehicle_labels = svm_classifier.predict(test_word_histograms)\n",
    "cm = confusion_matrix(test_vehicle_labels, predicted_vehicle_labels)\n",
    "acc = accuracy_score(test_vehicle_labels, predicted_vehicle_labels)\n",
    "print(cm)\n",
    "print(acc*100)"
   ]
  },
  {
   "cell_type": "code",
   "execution_count": 17,
   "id": "3eb4e14b",
   "metadata": {},
   "outputs": [
    {
     "name": "stdout",
     "output_type": "stream",
     "text": [
      "[[22  0  1  7]\n",
      " [ 1 11  1 17]\n",
      " [ 3  7 13  7]\n",
      " [ 3  3  0 24]]\n",
      "58.333333333333336\n"
     ]
    }
   ],
   "source": [
    "svm_classifier = svm.SVC(C = 30,kernel = 'linear') \n",
    "svm_classifier.fit(training_word_histograms, training_vehicle_labels)\n",
    "predicted_vehicle_labels = svm_classifier.predict(test_word_histograms)\n",
    "cm = confusion_matrix(test_vehicle_labels, predicted_vehicle_labels)\n",
    "acc = accuracy_score(test_vehicle_labels, predicted_vehicle_labels)\n",
    "print(cm)\n",
    "print(acc*100)"
   ]
  },
  {
   "cell_type": "code",
   "execution_count": 18,
   "id": "df5c1dc4",
   "metadata": {},
   "outputs": [
    {
     "name": "stdout",
     "output_type": "stream",
     "text": [
      "[[26  0  1  3]\n",
      " [ 2 13  3 12]\n",
      " [10  6 10  4]\n",
      " [ 2 10  1 17]]\n",
      "55.00000000000001\n"
     ]
    }
   ],
   "source": [
    "adb_classifier = AdaBoostClassifier(n_estimators = 250, random_state = 0)\n",
    "adb_classifier.fit(training_word_histograms, training_vehicle_labels)\n",
    "predicted_vehicle_labels = adb_classifier.predict(test_word_histograms)\n",
    "cm = confusion_matrix(test_vehicle_labels, predicted_vehicle_labels)\n",
    "acc = accuracy_score(test_vehicle_labels, predicted_vehicle_labels)\n",
    "print(cm)\n",
    "print(acc*100)"
   ]
  },
  {
   "cell_type": "markdown",
   "id": "83e24213",
   "metadata": {},
   "source": [
    "----"
   ]
  }
 ],
 "metadata": {
  "kernelspec": {
   "display_name": "Python 3 (ipykernel)",
   "language": "python",
   "name": "python3"
  },
  "language_info": {
   "codemirror_mode": {
    "name": "ipython",
    "version": 3
   },
   "file_extension": ".py",
   "mimetype": "text/x-python",
   "name": "python",
   "nbconvert_exporter": "python",
   "pygments_lexer": "ipython3",
   "version": "3.7.3"
  }
 },
 "nbformat": 4,
 "nbformat_minor": 5
}
