{
 "cells": [
  {
   "cell_type": "code",
   "execution_count": 1,
   "id": "5ffd1b8a",
   "metadata": {},
   "outputs": [
    {
     "name": "stderr",
     "output_type": "stream",
     "text": [
      "C:\\Users\\shane\\Anaconda3\\lib\\site-packages\\numpy\\_distributor_init.py:32: UserWarning: loaded more than 1 DLL from .libs:\n",
      "C:\\Users\\shane\\Anaconda3\\lib\\site-packages\\numpy\\.libs\\libopenblas.IPBC74C7KURV7CB2PKT5Z5FNR3SIBV4J.gfortran-win_amd64.dll\n",
      "C:\\Users\\shane\\Anaconda3\\lib\\site-packages\\numpy\\.libs\\libopenblas.NOIJJG62EMASZI6NYURL6JBKM4EVBGM7.gfortran-win_amd64.dll\n",
      "C:\\Users\\shane\\Anaconda3\\lib\\site-packages\\numpy\\.libs\\libopenblas.XWYDX2IKJW2NMTWSFYNGFUWKQU3LYTCZ.gfortran-win_amd64.dll\n",
      "  stacklevel=1)\n"
     ]
    },
    {
     "name": "stdout",
     "output_type": "stream",
     "text": [
      "tensor([[0.0189, 0.2846, 0.0621],\n",
      "        [0.1213, 0.1288, 0.5956],\n",
      "        [0.9276, 0.0493, 0.0031],\n",
      "        [0.4427, 0.5717, 0.0833],\n",
      "        [0.4812, 0.8117, 0.5844]])\n"
     ]
    }
   ],
   "source": [
    "import time\n",
    "import torch \n",
    "x = torch.rand(5, 3) \n",
    "print(x)"
   ]
  },
  {
   "cell_type": "code",
   "execution_count": 2,
   "id": "95817c06",
   "metadata": {},
   "outputs": [
    {
     "name": "stdout",
     "output_type": "stream",
     "text": [
      "torch.Size([5, 3])\n"
     ]
    }
   ],
   "source": [
    "print(x.size()) "
   ]
  },
  {
   "cell_type": "code",
   "execution_count": 3,
   "id": "029b201e",
   "metadata": {},
   "outputs": [
    {
     "name": "stdout",
     "output_type": "stream",
     "text": [
      "tensor([[0.2257, 0.4783, 0.7851],\n",
      "        [0.5291, 0.1641, 0.9187],\n",
      "        [1.4825, 0.7524, 0.2909],\n",
      "        [0.7293, 1.4293, 0.6849],\n",
      "        [0.6495, 1.3257, 1.3671]])\n"
     ]
    }
   ],
   "source": [
    "y = torch.rand(5, 3) \n",
    "z = x + y \n",
    "print(z)"
   ]
  },
  {
   "cell_type": "code",
   "execution_count": 4,
   "id": "301517ce",
   "metadata": {},
   "outputs": [
    {
     "name": "stdout",
     "output_type": "stream",
     "text": [
      "[[0.01894206 0.28461742 0.06207496]\n",
      " [0.12125009 0.128762   0.5955537 ]\n",
      " [0.9275559  0.04926944 0.00314814]\n",
      " [0.4427178  0.5717104  0.08334827]\n",
      " [0.48115247 0.8116709  0.5843811 ]]\n"
     ]
    }
   ],
   "source": [
    "t = x.numpy() \n",
    "print(t) "
   ]
  },
  {
   "cell_type": "code",
   "execution_count": 5,
   "id": "f40ba98c",
   "metadata": {},
   "outputs": [
    {
     "name": "stdout",
     "output_type": "stream",
     "text": [
      "tensor([[0.0189, 0.2846, 0.0621],\n",
      "        [0.1213, 0.1288, 0.5956],\n",
      "        [0.9276, 0.0493, 0.0031],\n",
      "        [0.4427, 0.5717, 0.0833],\n",
      "        [0.4812, 0.8117, 0.5844]])\n"
     ]
    }
   ],
   "source": [
    "u = torch.from_numpy(t) \n",
    "print(u)"
   ]
  },
  {
   "cell_type": "markdown",
   "id": "eaabd1e9",
   "metadata": {},
   "source": [
    "----"
   ]
  },
  {
   "cell_type": "code",
   "execution_count": 6,
   "id": "712411d1",
   "metadata": {},
   "outputs": [
    {
     "name": "stdout",
     "output_type": "stream",
     "text": [
      "99 51.09511947631836\n",
      "199 1.1099992990493774\n",
      "299 0.024796951562166214\n",
      "399 0.0005794574972242117\n",
      "499 6.305684109975118e-06\n"
     ]
    }
   ],
   "source": [
    "# N is batch size; D_in is input dimension; \n",
    "# H is hidden dimension; D_out is output dimension. \n",
    "N, D_in, H, D_out = 64, 1000, 100, 10 \n",
    "# Create random Tensors to hold inputs and outputs \n",
    "x = torch.randn(N, D_in) \n",
    "y = torch.randn(N, D_out) \n",
    "# Use the nn package to define our model and loss function. \n",
    "model = torch.nn.Sequential( \n",
    "    torch.nn.Linear(D_in, H), \n",
    "    torch.nn.ReLU(), \n",
    "    torch.nn.Linear(H, D_out),\n",
    ") \n",
    "loss_fn = torch.nn.MSELoss(reduction='sum') \n",
    "# Use the optim package to define an Optimizer that will update the weights of \n",
    "# the model for us. Here we will use Adam; the optim package contains many other \n",
    "# optimization algorithms. The first argument to the Adam constructor tells the \n",
    "# optimizer which Tensors it should update. \n",
    "learning_rate = 1e-4 \n",
    "optimizer = torch.optim.Adam(model.parameters(), lr=learning_rate) \n",
    "for t in range(500): \n",
    " # Forward pass: compute predicted y by passing x to the model. \n",
    "    y_pred = model(x) \n",
    " # Compute and print loss. \n",
    "    loss = loss_fn(y_pred, y) \n",
    "    if t % 100 == 99: \n",
    "        print(t, loss.item()) \n",
    " # Before the backward pass, use the optimizer object to zero all of the \n",
    " # gradients for the variables it will update (which are the learnable \n",
    " # weights of the model). This is because by default, gradients are \n",
    " # accumulated in buffers( i.e, not overwritten) whenever .backward() \n",
    " # is called. Checkout docs of torch.autograd.backward for more details. \n",
    "    optimizer.zero_grad() \n",
    " # Backward pass: compute gradient of the loss with respect to model \n",
    " # parameters \n",
    "    loss.backward() \n",
    " # Calling the step function on an Optimizer makes an update to its \n",
    " # parameters \n",
    "    optimizer.step() "
   ]
  },
  {
   "cell_type": "code",
   "execution_count": 7,
   "id": "5c6a9600",
   "metadata": {},
   "outputs": [],
   "source": [
    "class TwoLayerNet(torch.nn.Module): \n",
    "    def __init__(self, D_in, H, D_out): #D_in: input layer, H: hidden layer, D_out: output layer \n",
    "    # In the constructor we instantiate two nn.Linear modules and assign them as \n",
    "    # member variables.\n",
    "        super(TwoLayerNet, self).__init__() \n",
    "        self.linear1 = torch.nn.Linear(D_in, H) \n",
    "        self.linear2 = torch.nn.Linear(H, D_out) \n",
    "     \n",
    "    def forward(self, x):  \n",
    "    # In the forward function we accept a Tensor of input data and we must return \n",
    "    # a Tensor of output data. We can use Modules defined in the constructor as \n",
    "    # well as arbitrary operators on Tensors. \n",
    " \n",
    "        h_relu = self.linear1(x).clamp(min=0) \n",
    "        y_pred = self.linear2(h_relu) \n",
    "        return y_pred"
   ]
  },
  {
   "cell_type": "code",
   "execution_count": 8,
   "id": "57a619fc",
   "metadata": {},
   "outputs": [
    {
     "name": "stdout",
     "output_type": "stream",
     "text": [
      "99 4.079337120056152\n",
      "199 0.11554257571697235\n",
      "299 0.003962721675634384\n",
      "399 0.00021152160479687154\n",
      "499 1.619060458324384e-05\n"
     ]
    }
   ],
   "source": [
    "# N is batch size; D_in is input dimension; \n",
    "# H is hidden dimension; D_out is output dimension. \n",
    "N, D_in, H, D_out = 64, 1000, 100, 10 \n",
    "# Create random Tensors to hold inputs and outputs \n",
    "x = torch.randn(N, D_in) \n",
    "y = torch.randn(N, D_out) \n",
    "# Construct our model by instantiating the class defined above \n",
    "model = TwoLayerNet(D_in, H, D_out) \n",
    "# Construct our loss function and an Optimizer. The call to model.parameters() \n",
    "# in the SGD constructor will contain the learnable parameters of the two \n",
    "# nn.Linear modules which are members of the model. \n",
    "criterion = torch.nn.MSELoss(reduction='sum') \n",
    "optimizer = torch.optim.SGD(model.parameters(), lr=1e-4) \n",
    "for t in range(500): \n",
    " # Forward pass: Compute predicted y by passing x to the model \n",
    "    y_pred = model(x) \n",
    "    # Compute and print loss \n",
    "    loss = criterion(y_pred, y) \n",
    "    if t % 100 == 99: \n",
    "        print(t, loss.item()) \n",
    " # Zero gradients, perform a backward pass, and update the weights. \n",
    "    optimizer.zero_grad() \n",
    "    loss.backward() \n",
    "    optimizer.step() "
   ]
  },
  {
   "cell_type": "markdown",
   "id": "85f2e0f8",
   "metadata": {},
   "source": [
    "----"
   ]
  },
  {
   "cell_type": "code",
   "execution_count": 9,
   "id": "4e43ddfc",
   "metadata": {},
   "outputs": [
    {
     "name": "stderr",
     "output_type": "stream",
     "text": [
      "C:\\Users\\shane\\Anaconda3\\lib\\site-packages\\torchvision\\io\\image.py:13: UserWarning: Failed to load image Python extension: \n",
      "  warn(f\"Failed to load image Python extension: {e}\")\n"
     ]
    },
    {
     "name": "stdout",
     "output_type": "stream",
     "text": [
      "Files already downloaded and verified\n",
      "Files already downloaded and verified\n"
     ]
    }
   ],
   "source": [
    "import torch \n",
    "import torchvision \n",
    "import torchvision.transforms as transforms \n",
    "transform = transforms.Compose( \n",
    "    [transforms.ToTensor(), transforms.Normalize((0.5, 0.5, 0.5), (0.5, 0.5, 0.5))]) \n",
    "trainset = torchvision.datasets.CIFAR10(root='./data', train=True, download=True, transform=transform) \n",
    "trainloader = torch.utils.data.DataLoader(trainset, batch_size=4, shuffle=True, num_workers=2) \n",
    "testset = torchvision.datasets.CIFAR10(root='./data', train=True, download=True, transform=transform) \n",
    "testloader = torch.utils.data.DataLoader(testset, batch_size=4, shuffle=False, num_workers=2) \n",
    "classes = ('plane', 'car', 'bird', 'cat', 'deer', 'dog', 'frog', 'horse', 'ship', 'truck') "
   ]
  },
  {
   "cell_type": "code",
   "execution_count": 10,
   "id": "2a33adf1",
   "metadata": {},
   "outputs": [
    {
     "name": "stderr",
     "output_type": "stream",
     "text": [
      "In C:\\Users\\shane\\Anaconda3\\lib\\site-packages\\matplotlib\\mpl-data\\stylelib\\_classic_test.mplstyle: \n",
      "The text.latex.preview rcparam was deprecated in Matplotlib 3.3 and will be removed two minor releases later.\n",
      "In C:\\Users\\shane\\Anaconda3\\lib\\site-packages\\matplotlib\\mpl-data\\stylelib\\_classic_test.mplstyle: \n",
      "The mathtext.fallback_to_cm rcparam was deprecated in Matplotlib 3.3 and will be removed two minor releases later.\n",
      "In C:\\Users\\shane\\Anaconda3\\lib\\site-packages\\matplotlib\\mpl-data\\stylelib\\_classic_test.mplstyle: Support for setting the 'mathtext.fallback_to_cm' rcParam is deprecated since 3.3 and will be removed two minor releases later; use 'mathtext.fallback : 'cm' instead.\n",
      "In C:\\Users\\shane\\Anaconda3\\lib\\site-packages\\matplotlib\\mpl-data\\stylelib\\_classic_test.mplstyle: \n",
      "The validate_bool_maybe_none function was deprecated in Matplotlib 3.3 and will be removed two minor releases later.\n",
      "In C:\\Users\\shane\\Anaconda3\\lib\\site-packages\\matplotlib\\mpl-data\\stylelib\\_classic_test.mplstyle: \n",
      "The savefig.jpeg_quality rcparam was deprecated in Matplotlib 3.3 and will be removed two minor releases later.\n",
      "In C:\\Users\\shane\\Anaconda3\\lib\\site-packages\\matplotlib\\mpl-data\\stylelib\\_classic_test.mplstyle: \n",
      "The keymap.all_axes rcparam was deprecated in Matplotlib 3.3 and will be removed two minor releases later.\n",
      "In C:\\Users\\shane\\Anaconda3\\lib\\site-packages\\matplotlib\\mpl-data\\stylelib\\_classic_test.mplstyle: \n",
      "The animation.avconv_path rcparam was deprecated in Matplotlib 3.3 and will be removed two minor releases later.\n",
      "In C:\\Users\\shane\\Anaconda3\\lib\\site-packages\\matplotlib\\mpl-data\\stylelib\\_classic_test.mplstyle: \n",
      "The animation.avconv_args rcparam was deprecated in Matplotlib 3.3 and will be removed two minor releases later.\n"
     ]
    },
    {
     "data": {
      "image/png": "[encoded data removed]",
      "text/plain": [
       "<Figure size 432x288 with 1 Axes>"
      ]
     },
     "metadata": {
      "needs_background": "light"
     },
     "output_type": "display_data"
    },
    {
     "name": "stdout",
     "output_type": "stream",
     "text": [
      "  cat truck truck   car\n"
     ]
    }
   ],
   "source": [
    "import matplotlib.pyplot as plt \n",
    "import numpy as np \n",
    "# function to show an image \n",
    "def imshow(img): \n",
    "    img = img / 2 + 0.5 # unnormalize \n",
    "    npimg = img.numpy() \n",
    "    plt.imshow(np.transpose(npimg, (1, 2, 0))) \n",
    "    plt.show() \n",
    "# get some random training images \n",
    "dataiter = iter(trainloader) \n",
    "images, labels = dataiter.next() \n",
    "# show images \n",
    "imshow(torchvision.utils.make_grid(images)) \n",
    "# print true labels of the images \n",
    "print(' '.join('%5s' % classes[labels[j]] for j in range(4)))"
   ]
  },
  {
   "cell_type": "code",
   "execution_count": 11,
   "id": "bba30e90",
   "metadata": {},
   "outputs": [],
   "source": [
    "import torch.nn as nn \n",
    "import torch.nn.functional as F \n",
    "class Net(nn.Module): \n",
    "    def __init__(self): \n",
    "        super(Net, self).__init__() \n",
    "        self.conv1 = nn.Conv2d(3, 6, 5) \n",
    "        self.pool = nn.MaxPool2d(2, 2) \n",
    "        self.conv2 = nn.Conv2d(6, 16, 5) \n",
    "        self.fc1 = nn.Linear(16 * 5 * 5, 120) \n",
    "        self.fc2 = nn.Linear(120, 84) \n",
    "        self.fc3 = nn.Linear(84, 10) \n",
    "    def forward(self, x): \n",
    "        x = self.pool(F.relu(self.conv1(x))) #x = self.conv1(x), x = F.relu(x), x = self.pool(x) \n",
    "        x = self.pool(F.relu(self.conv2(x))) #x = self.conv2(x), x = F.relu(x), x = self.pool(x) \n",
    "        x = x.view(-1, 16 * 5 * 5) #flatten a 16x5x5 tensor to 16x5x5-dimensional vector \n",
    "        x = F.relu(self.fc1(x)) \n",
    "        x = F.relu(self.fc2(x)) \n",
    "        x = self.fc3(x) \n",
    "        return x \n",
    "net = Net() "
   ]
  },
  {
   "cell_type": "code",
   "execution_count": 12,
   "id": "6b2e31b7",
   "metadata": {},
   "outputs": [],
   "source": [
    "import torch.optim as optim \n",
    "criterion = nn.CrossEntropyLoss() \n",
    "optimizer = optim.SGD(net.parameters(), lr=0.001, momentum=0.9) "
   ]
  },
  {
   "cell_type": "code",
   "execution_count": 13,
   "id": "cbb45d22",
   "metadata": {},
   "outputs": [
    {
     "name": "stdout",
     "output_type": "stream",
     "text": [
      "[1,  2000] loss: 2.120\n",
      "[1,  4000] loss: 1.783\n",
      "[1,  6000] loss: 1.628\n",
      "[1,  8000] loss: 1.546\n",
      "[1, 10000] loss: 1.482\n",
      "[1, 12000] loss: 1.419\n",
      "[2,  2000] loss: 1.351\n",
      "[2,  4000] loss: 1.346\n",
      "[2,  6000] loss: 1.322\n",
      "[2,  8000] loss: 1.302\n",
      "[2, 10000] loss: 1.275\n",
      "[2, 12000] loss: 1.249\n",
      "Finished Training\n",
      "105.38915549999999\n"
     ]
    },
    {
     "data": {
      "image/png": "[encoded data removed]",
      "text/plain": [
       "<Figure size 432x288 with 1 Axes>"
      ]
     },
     "metadata": {
      "needs_background": "light"
     },
     "output_type": "display_data"
    }
   ],
   "source": [
    "loss_history = [] \n",
    "epoch = 2 \n",
    "tic = time.perf_counter()\n",
    "for e in range(epoch): # loop over the dataset multiple times \n",
    "    running_loss = 0.0 \n",
    "    for i, data in enumerate(trainloader, 0): \n",
    " # get the inputs; data is a list of [inputs, labels] \n",
    "        inputs, labels = data \n",
    " # zero the parameter gradients \n",
    "        optimizer.zero_grad() \n",
    " # forward + backward + optimize \n",
    "        outputs = net(inputs) \n",
    "        loss = criterion(outputs, labels) \n",
    "        loss.backward() \n",
    "        optimizer.step() \n",
    " # print statistics \n",
    "        running_loss += loss.item() \n",
    "        if i % 2000 == 1999: # print every 2000 mini-batches \n",
    "            print('[%d, %5d] loss: %.3f' % \n",
    "                (e + 1, i + 1, running_loss / 2000)) \n",
    "            loss_history.append(running_loss) \n",
    "            running_loss = 0.0 \n",
    "toc = time.perf_counter()\n",
    "print('Finished Training') \n",
    "print(toc-tic)\n",
    "plt.plot(loss_history, label = 'training loss', color = 'r') \n",
    "plt.legend(loc = \"upper left\") \n",
    "plt.show() "
   ]
  },
  {
   "cell_type": "code",
   "execution_count": 14,
   "id": "58568a6c",
   "metadata": {},
   "outputs": [],
   "source": [
    "PATH = './cifar_net.pth' \n",
    "torch.save(net.state_dict(), PATH) "
   ]
  },
  {
   "cell_type": "code",
   "execution_count": 15,
   "id": "14b907c6",
   "metadata": {},
   "outputs": [
    {
     "data": {
      "image/png": "[encoded data removed]",
      "text/plain": [
       "<Figure size 432x288 with 1 Axes>"
      ]
     },
     "metadata": {
      "needs_background": "light"
     },
     "output_type": "display_data"
    },
    {
     "name": "stdout",
     "output_type": "stream",
     "text": [
      "GroundTruth:   frog truck truck  deer\n"
     ]
    }
   ],
   "source": [
    "dataiter = iter(testloader) \n",
    "images, labels = dataiter.next() \n",
    "# print images \n",
    "imshow(torchvision.utils.make_grid(images)) \n",
    "print('GroundTruth: ', ' '.join('%5s' % classes[labels[j]] for j in range(4))) "
   ]
  },
  {
   "cell_type": "code",
   "execution_count": 16,
   "id": "4bf4b645",
   "metadata": {},
   "outputs": [],
   "source": [
    "#load the trained network \n",
    "net = Net() \n",
    "net.load_state_dict(torch.load(PATH)) \n",
    "outputs = net(images)"
   ]
  },
  {
   "cell_type": "code",
   "execution_count": 17,
   "id": "2d34a7ba",
   "metadata": {},
   "outputs": [
    {
     "name": "stdout",
     "output_type": "stream",
     "text": [
      "0.0103750999999761\n",
      "Predicted:   frog truck  ship  frog\n"
     ]
    }
   ],
   "source": [
    "tic = time.perf_counter()\n",
    "_, predicted_labels = torch.max(outputs, 1) \n",
    "toc = time.perf_counter()\n",
    "print(toc-tic)\n",
    "print('Predicted: ', ' '.join('%5s' % classes[predicted_labels[j]] for j in range(4))) "
   ]
  },
  {
   "cell_type": "code",
   "execution_count": 18,
   "id": "7eed151a",
   "metadata": {},
   "outputs": [
    {
     "name": "stdout",
     "output_type": "stream",
     "text": [
      "Accuracy of the network on the 10000 test images: 56 %\n"
     ]
    }
   ],
   "source": [
    "correct = 0 \n",
    "total = 0 \n",
    "with torch.no_grad(): \n",
    "    for data in testloader: \n",
    "        images, groundtruth_labels = data \n",
    "        outputs = net(images) \n",
    "        _, predicted_labels = torch.max(outputs.data, 1) \n",
    "        total += groundtruth_labels.size(0) \n",
    "        correct += (predicted_labels == groundtruth_labels).sum().item() \n",
    "print('Accuracy of the network on the 10000 test images: %d %%' % (100 * correct / total)) "
   ]
  },
  {
   "cell_type": "code",
   "execution_count": 19,
   "id": "6e6c7415",
   "metadata": {},
   "outputs": [
    {
     "name": "stdout",
     "output_type": "stream",
     "text": [
      "Accuracy of plane : 65 %\n",
      "Accuracy of   car : 89 %\n",
      "Accuracy of  bird : 47 %\n",
      "Accuracy of   cat : 22 %\n",
      "Accuracy of  deer : 44 %\n",
      "Accuracy of   dog : 47 %\n",
      "Accuracy of  frog : 76 %\n",
      "Accuracy of horse : 57 %\n",
      "Accuracy of  ship : 55 %\n",
      "Accuracy of truck : 54 %\n",
      "27.856952500000034\n"
     ]
    }
   ],
   "source": [
    "tic = time.perf_counter()\n",
    "class_correct = list(0. for i in range(10)) \n",
    "class_total = list(0. for i in range(10)) \n",
    "with torch.no_grad(): \n",
    "    for data in testloader: \n",
    "        images, groundtruth_labels = data \n",
    "        outputs = net(images) \n",
    "        _, predicted_labels = torch.max(outputs, 1) \n",
    "        c = (predicted_labels == groundtruth_labels).squeeze() \n",
    "        for i in range(4): \n",
    "            label = groundtruth_labels[i] \n",
    "            class_correct[label] += c[i].item() \n",
    "            class_total[label] += 1 \n",
    "toc = time.perf_counter()\n",
    "for i in range(10): \n",
    "    print('Accuracy of %5s : %2d %%' % ( \n",
    "        classes[i], 100 * class_correct[i] / class_total[i])) \n",
    "print(toc-tic)"
   ]
  },
  {
   "cell_type": "markdown",
   "id": "ad9aae4d",
   "metadata": {},
   "source": [
    "----"
   ]
  },
  {
   "cell_type": "code",
   "execution_count": 20,
   "id": "7be24305",
   "metadata": {},
   "outputs": [],
   "source": [
    "testloader = torch.utils.data.DataLoader(testset, batch_size=1, shuffle=False, num_workers=2) "
   ]
  },
  {
   "cell_type": "code",
   "execution_count": 21,
   "id": "60461a87",
   "metadata": {},
   "outputs": [
    {
     "name": "stdout",
     "output_type": "stream",
     "text": [
      "Accuracy of the network on the 10000 test images: 56 %\n"
     ]
    }
   ],
   "source": [
    "correct = 0 \n",
    "total = 0 \n",
    "with torch.no_grad(): \n",
    "    for data in testloader: \n",
    "        images, groundtruth_labels = data \n",
    "        outputs = net(images) \n",
    "        _, predicted_labels = torch.max(outputs.data, 1) \n",
    "        total += groundtruth_labels.size(0) \n",
    "        correct += (predicted_labels == groundtruth_labels).sum().item() \n",
    "print('Accuracy of the network on the 10000 test images: %d %%' % (100 * correct / total))"
   ]
  },
  {
   "cell_type": "code",
   "execution_count": 22,
   "id": "f6224da3",
   "metadata": {},
   "outputs": [
    {
     "name": "stdout",
     "output_type": "stream",
     "text": [
      "[[3267  485  293   64   82   33   82   44  300  350]\n",
      " [  99 4495   18   17   21    8   55   12   80  195]\n",
      " [ 433  240 2387  175  449  301  686  123   96  110]\n",
      " [ 163  217  605 1136  340  993 1076  186  108  176]\n",
      " [ 247  156  868  142 2238  208  696  290   57   98]\n",
      " [  70  123  533  579  332 2364  527  319   50  103]\n",
      " [  49  217  315   96  248   91 3845   29   40   70]\n",
      " [ 106  150  339  169  544  427  154 2857   40  214]\n",
      " [ 771  871   66   35   24   34   57   20 2758  364]\n",
      " [ 149 1676   38   46   22   27  138   64  108 2732]]\n"
     ]
    }
   ],
   "source": [
    "from sklearn.metrics import confusion_matrix\n",
    "gt = []\n",
    "pd = []\n",
    "with torch.no_grad(): \n",
    "    for data in testloader: \n",
    "        images, groundtruth_labels = data\n",
    "        outputs = net(images) \n",
    "        _, predicted_labels = torch.max(outputs, 1) \n",
    "        int_value1 = groundtruth_labels.item()\n",
    "        int_value2 = predicted_labels.item()\n",
    "        gt.append(int_value1)\n",
    "        pd.append(int_value2)\n",
    "print(confusion_matrix(gt,pd))"
   ]
  },
  {
   "cell_type": "markdown",
   "id": "d3a1e35d",
   "metadata": {},
   "source": [
    "----"
   ]
  },
  {
   "cell_type": "code",
   "execution_count": 23,
   "id": "656da6f0",
   "metadata": {},
   "outputs": [],
   "source": [
    "from torchvision import datasets\n",
    "transform = transforms.Compose( \n",
    "    [transforms.Resize((32,32)), transforms.ToTensor(), transforms.Normalize((0.5, 0.5, 0.5), (0.5, 0.5, 0.5))]) \n",
    "trainset = datasets.ImageFolder(\"FoodImages\\Train\", transform=transform) \n",
    "testset = datasets.ImageFolder(\"FoodImages\\Test\", transform=transform) \n",
    "trainloader = torch.utils.data.DataLoader(trainset, batch_size=1, shuffle=True, num_workers=2) \n",
    "testloader = torch.utils.data.DataLoader(testset, batch_size=1, shuffle=True, num_workers=2) \n",
    "classes = ('Cakes', 'Pasta', 'Pizza') "
   ]
  },
  {
   "cell_type": "code",
   "execution_count": 24,
   "id": "7f14188e",
   "metadata": {},
   "outputs": [
    {
     "data": {
      "image/png": "[encoded data removed]",
      "text/plain": [
       "<Figure size 432x288 with 1 Axes>"
      ]
     },
     "metadata": {
      "needs_background": "light"
     },
     "output_type": "display_data"
    },
    {
     "name": "stdout",
     "output_type": "stream",
     "text": [
      "Pizza\n"
     ]
    }
   ],
   "source": [
    "import matplotlib.pyplot as plt \n",
    "import numpy as np \n",
    "# function to show an image \n",
    "def imshow(img): \n",
    " img = img / 2 + 0.5 # unnormalize \n",
    " npimg = img.numpy() \n",
    " plt.imshow(np.transpose(npimg, (1, 2, 0))) \n",
    " plt.show() \n",
    "# get some random training images \n",
    "dataiter = iter(trainloader) \n",
    "images, labels = dataiter.next() \n",
    "# show images \n",
    "imshow(torchvision.utils.make_grid(images)) \n",
    "# print true labels of the images \n",
    "print(' '.join('%5s' % classes[labels[j]] for j in range(1))) "
   ]
  },
  {
   "cell_type": "code",
   "execution_count": 25,
   "id": "b7498263",
   "metadata": {},
   "outputs": [],
   "source": [
    "criterion = nn.CrossEntropyLoss() \n",
    "optimizer = optim.SGD(net.parameters(), lr=0.001, momentum=0.9) "
   ]
  },
  {
   "cell_type": "code",
   "execution_count": 26,
   "id": "1be1eeb7",
   "metadata": {},
   "outputs": [
    {
     "name": "stdout",
     "output_type": "stream",
     "text": [
      "[1,    30] loss: 2.845\n",
      "[1,    60] loss: 1.194\n",
      "[1,    90] loss: 0.981\n",
      "[2,    30] loss: 0.527\n",
      "[2,    60] loss: 0.821\n",
      "[2,    90] loss: 0.490\n",
      "[3,    30] loss: 0.330\n",
      "[3,    60] loss: 0.474\n",
      "[3,    90] loss: 0.339\n",
      "[4,    30] loss: 0.111\n",
      "[4,    60] loss: 0.238\n",
      "[4,    90] loss: 0.168\n",
      "[5,    30] loss: 0.419\n",
      "[5,    60] loss: 0.516\n",
      "[5,    90] loss: 0.278\n",
      "[6,    30] loss: 0.035\n",
      "[6,    60] loss: 0.138\n",
      "[6,    90] loss: 0.155\n",
      "[7,    30] loss: 0.207\n",
      "[7,    60] loss: 0.022\n",
      "[7,    90] loss: 0.063\n",
      "[8,    30] loss: 0.041\n",
      "[8,    60] loss: 0.027\n",
      "[8,    90] loss: 0.017\n",
      "[9,    30] loss: 0.018\n",
      "[9,    60] loss: 0.006\n",
      "[9,    90] loss: 0.012\n",
      "[10,    30] loss: 0.008\n",
      "[10,    60] loss: 0.003\n",
      "[10,    90] loss: 0.004\n",
      "Finished Training\n",
      "19.823870399999976\n"
     ]
    },
    {
     "data": {
      "image/png": "[encoded data removed]",
      "text/plain": [
       "<Figure size 432x288 with 1 Axes>"
      ]
     },
     "metadata": {
      "needs_background": "light"
     },
     "output_type": "display_data"
    }
   ],
   "source": [
    "loss_history = [] \n",
    "epoch = 10\n",
    "tic = time.perf_counter()\n",
    "for e in range(epoch): # loop over the dataset multiple times \n",
    "    running_loss = 0.0 \n",
    "    for i, data in enumerate(trainloader, 0): \n",
    "        # get the inputs; data is a list of [inputs, labels] \n",
    "        inputs, labels = data \n",
    "        # zero the parameter gradients \n",
    "        optimizer.zero_grad() \n",
    "        # forward + backward + optimize \n",
    "        outputs = net(inputs) \n",
    "        loss = criterion(outputs, labels) \n",
    "        loss.backward() \n",
    "        optimizer.step() \n",
    "        \n",
    "        # print statistics \n",
    "        running_loss += loss.item() \n",
    "        if i % 30 == 29: # print every 2000 mini-batches \n",
    "            print('[%d, %5d] loss: %.3f' % \n",
    "                (e + 1, i + 1, running_loss / 30)) \n",
    "            loss_history.append(running_loss) \n",
    "            running_loss = 0.0 \n",
    "toc = time.perf_counter()\n",
    "print('Finished Training') \n",
    "print(toc-tic)\n",
    "plt.plot(loss_history, label = 'training loss', color = 'r') \n",
    "plt.legend(loc = \"upper left\") \n",
    "plt.show() "
   ]
  },
  {
   "cell_type": "code",
   "execution_count": 27,
   "id": "7282ee17",
   "metadata": {},
   "outputs": [
    {
     "name": "stdout",
     "output_type": "stream",
     "text": [
      "0.0032118999999966036\n",
      "Predicted:  Cakes\n"
     ]
    }
   ],
   "source": [
    "tic = time.perf_counter()\n",
    "_, predicted_labels = torch.max(outputs, 1) \n",
    "toc = time.perf_counter()\n",
    "print(toc-tic)\n",
    "print('Predicted: ', ' '.join('%5s' % classes[predicted_labels[j]] for j in range(1))) "
   ]
  },
  {
   "cell_type": "code",
   "execution_count": 28,
   "id": "085a1e59",
   "metadata": {},
   "outputs": [
    {
     "name": "stdout",
     "output_type": "stream",
     "text": [
      "Accuracy of the network on the 90 test images: 75 %\n"
     ]
    }
   ],
   "source": [
    "correct = 0 \n",
    "total = 0 \n",
    "with torch.no_grad():\n",
    "    for data in testloader: \n",
    "        images, groundtruth_labels = data \n",
    "        outputs = net(images) \n",
    "        _, predicted_labels = torch.max(outputs.data, 1) \n",
    "        total += groundtruth_labels.size(0) \n",
    "        correct += (predicted_labels == groundtruth_labels).sum().item() \n",
    "print('Accuracy of the network on the 90 test images: %d %%' % (100 * correct / total)) "
   ]
  },
  {
   "cell_type": "code",
   "execution_count": 29,
   "id": "a7ff1c9f",
   "metadata": {},
   "outputs": [
    {
     "name": "stdout",
     "output_type": "stream",
     "text": [
      "[[20  8  2]\n",
      " [ 3 24  3]\n",
      " [ 2  4 24]]\n"
     ]
    }
   ],
   "source": [
    "gtt = []\n",
    "pdd = []\n",
    "with torch.no_grad(): \n",
    "    for data in testloader: \n",
    "        images, groundtruth_labels = data \n",
    "        outputs = net(images) \n",
    "        _, predicted_labels = torch.max(outputs, 1) \n",
    "        int_value1 = groundtruth_labels.item()\n",
    "        int_value2 = predicted_labels.item()\n",
    "        gtt.append(int_value1)\n",
    "        pdd.append(int_value2)\n",
    "print(confusion_matrix(gtt,pdd))"
   ]
  },
  {
   "cell_type": "markdown",
   "id": "dec5c5de",
   "metadata": {},
   "source": [
    "----"
   ]
  },
  {
   "cell_type": "code",
   "execution_count": 47,
   "id": "06206577",
   "metadata": {},
   "outputs": [
    {
     "data": {
      "text/plain": [
       "<All keys matched successfully>"
      ]
     },
     "execution_count": 47,
     "metadata": {},
     "output_type": "execute_result"
    }
   ],
   "source": [
    "PATH = './cifar_net.pth' \n",
    "net = Net() \n",
    "net.load_state_dict(torch.load(PATH)) "
   ]
  },
  {
   "cell_type": "code",
   "execution_count": 48,
   "id": "9339dfa7",
   "metadata": {},
   "outputs": [],
   "source": [
    "net.fc3 = nn.Linear(84, 3) "
   ]
  },
  {
   "cell_type": "code",
   "execution_count": 49,
   "id": "68e4d092",
   "metadata": {},
   "outputs": [
    {
     "name": "stdout",
     "output_type": "stream",
     "text": [
      "Net(\n",
      "  (conv1): Conv2d(3, 6, kernel_size=(5, 5), stride=(1, 1))\n",
      "  (pool): MaxPool2d(kernel_size=2, stride=2, padding=0, dilation=1, ceil_mode=False)\n",
      "  (conv2): Conv2d(6, 16, kernel_size=(5, 5), stride=(1, 1))\n",
      "  (fc1): Linear(in_features=400, out_features=120, bias=True)\n",
      "  (fc2): Linear(in_features=120, out_features=84, bias=True)\n",
      "  (fc3): Linear(in_features=84, out_features=3, bias=True)\n",
      ")\n"
     ]
    }
   ],
   "source": [
    "print(net)"
   ]
  },
  {
   "cell_type": "code",
   "execution_count": 54,
   "id": "5d16d8aa",
   "metadata": {},
   "outputs": [
    {
     "name": "stdout",
     "output_type": "stream",
     "text": [
      "[1,    30] loss: 1.243\n",
      "[1,    60] loss: 1.205\n",
      "[1,    90] loss: 1.315\n",
      "[2,    30] loss: 1.315\n",
      "[2,    60] loss: 1.218\n",
      "[2,    90] loss: 1.230\n",
      "[3,    30] loss: 1.239\n",
      "[3,    60] loss: 1.222\n",
      "[3,    90] loss: 1.303\n",
      "[4,    30] loss: 1.217\n",
      "[4,    60] loss: 1.274\n",
      "[4,    90] loss: 1.273\n",
      "[5,    30] loss: 1.264\n",
      "[5,    60] loss: 1.251\n",
      "[5,    90] loss: 1.248\n",
      "[6,    30] loss: 1.338\n",
      "[6,    60] loss: 1.206\n",
      "[6,    90] loss: 1.219\n",
      "[7,    30] loss: 1.293\n",
      "[7,    60] loss: 1.253\n",
      "[7,    90] loss: 1.218\n",
      "[8,    30] loss: 1.321\n",
      "[8,    60] loss: 1.170\n",
      "[8,    90] loss: 1.272\n",
      "[9,    30] loss: 1.286\n",
      "[9,    60] loss: 1.225\n",
      "[9,    90] loss: 1.252\n",
      "[10,    30] loss: 1.252\n",
      "[10,    60] loss: 1.291\n",
      "[10,    90] loss: 1.220\n",
      "[11,    30] loss: 1.294\n",
      "[11,    60] loss: 1.234\n",
      "[11,    90] loss: 1.235\n",
      "[12,    30] loss: 1.312\n",
      "[12,    60] loss: 1.222\n",
      "[12,    90] loss: 1.230\n",
      "[13,    30] loss: 1.235\n",
      "[13,    60] loss: 1.295\n",
      "[13,    90] loss: 1.233\n",
      "[14,    30] loss: 1.345\n",
      "[14,    60] loss: 1.233\n",
      "[14,    90] loss: 1.184\n",
      "[15,    30] loss: 1.207\n",
      "[15,    60] loss: 1.234\n",
      "[15,    90] loss: 1.322\n",
      "[16,    30] loss: 1.293\n",
      "[16,    60] loss: 1.213\n",
      "[16,    90] loss: 1.257\n",
      "[17,    30] loss: 1.242\n",
      "[17,    60] loss: 1.356\n",
      "[17,    90] loss: 1.165\n",
      "[18,    30] loss: 1.251\n",
      "[18,    60] loss: 1.237\n",
      "[18,    90] loss: 1.275\n",
      "[19,    30] loss: 1.158\n",
      "[19,    60] loss: 1.309\n",
      "[19,    90] loss: 1.296\n",
      "[20,    30] loss: 1.220\n",
      "[20,    60] loss: 1.354\n",
      "[20,    90] loss: 1.189\n",
      "[21,    30] loss: 1.218\n",
      "[21,    60] loss: 1.294\n",
      "[21,    90] loss: 1.252\n",
      "[22,    30] loss: 1.288\n",
      "[22,    60] loss: 1.267\n",
      "[22,    90] loss: 1.208\n",
      "[23,    30] loss: 1.136\n",
      "[23,    60] loss: 1.305\n",
      "[23,    90] loss: 1.322\n",
      "[24,    30] loss: 1.270\n",
      "[24,    60] loss: 1.208\n",
      "[24,    90] loss: 1.285\n",
      "[25,    30] loss: 1.221\n",
      "[25,    60] loss: 1.279\n",
      "[25,    90] loss: 1.263\n",
      "[26,    30] loss: 1.256\n",
      "[26,    60] loss: 1.254\n",
      "[26,    90] loss: 1.253\n",
      "[27,    30] loss: 1.272\n",
      "[27,    60] loss: 1.269\n",
      "[27,    90] loss: 1.222\n",
      "[28,    30] loss: 1.318\n",
      "[28,    60] loss: 1.222\n",
      "[28,    90] loss: 1.223\n",
      "[29,    30] loss: 1.226\n",
      "[29,    60] loss: 1.300\n",
      "[29,    90] loss: 1.237\n",
      "[30,    30] loss: 1.301\n",
      "[30,    60] loss: 1.258\n",
      "[30,    90] loss: 1.204\n",
      "[31,    30] loss: 1.256\n",
      "[31,    60] loss: 1.276\n",
      "[31,    90] loss: 1.232\n",
      "[32,    30] loss: 1.306\n",
      "[32,    60] loss: 1.291\n",
      "[32,    90] loss: 1.166\n",
      "[33,    30] loss: 1.254\n",
      "[33,    60] loss: 1.233\n",
      "[33,    90] loss: 1.276\n",
      "[34,    30] loss: 1.210\n",
      "[34,    60] loss: 1.304\n",
      "[34,    90] loss: 1.249\n",
      "[35,    30] loss: 1.188\n",
      "[35,    60] loss: 1.343\n",
      "[35,    90] loss: 1.232\n",
      "[36,    30] loss: 1.235\n",
      "[36,    60] loss: 1.339\n",
      "[36,    90] loss: 1.189\n",
      "[37,    30] loss: 1.248\n",
      "[37,    60] loss: 1.183\n",
      "[37,    90] loss: 1.332\n",
      "[38,    30] loss: 1.168\n",
      "[38,    60] loss: 1.302\n",
      "[38,    90] loss: 1.293\n",
      "[39,    30] loss: 1.300\n",
      "[39,    60] loss: 1.209\n",
      "[39,    90] loss: 1.254\n",
      "[40,    30] loss: 1.219\n",
      "[40,    60] loss: 1.241\n",
      "[40,    90] loss: 1.303\n",
      "[41,    30] loss: 1.215\n",
      "[41,    60] loss: 1.312\n",
      "[41,    90] loss: 1.236\n",
      "[42,    30] loss: 1.276\n",
      "[42,    60] loss: 1.242\n",
      "[42,    90] loss: 1.245\n",
      "[43,    30] loss: 1.261\n",
      "[43,    60] loss: 1.215\n",
      "[43,    90] loss: 1.287\n",
      "[44,    30] loss: 1.199\n",
      "[44,    60] loss: 1.273\n",
      "[44,    90] loss: 1.291\n",
      "[45,    30] loss: 1.248\n",
      "[45,    60] loss: 1.288\n",
      "[45,    90] loss: 1.227\n",
      "[46,    30] loss: 1.192\n",
      "[46,    60] loss: 1.264\n",
      "[46,    90] loss: 1.307\n",
      "[47,    30] loss: 1.257\n",
      "[47,    60] loss: 1.264\n",
      "[47,    90] loss: 1.243\n",
      "[48,    30] loss: 1.254\n",
      "[48,    60] loss: 1.234\n",
      "[48,    90] loss: 1.275\n",
      "[49,    30] loss: 1.253\n",
      "[49,    60] loss: 1.254\n",
      "[49,    90] loss: 1.257\n",
      "[50,    30] loss: 1.153\n",
      "[50,    60] loss: 1.292\n",
      "[50,    90] loss: 1.318\n",
      "[51,    30] loss: 1.221\n",
      "[51,    60] loss: 1.286\n",
      "[51,    90] loss: 1.256\n",
      "[52,    30] loss: 1.211\n",
      "[52,    60] loss: 1.302\n",
      "[52,    90] loss: 1.250\n",
      "[53,    30] loss: 1.300\n",
      "[53,    60] loss: 1.218\n",
      "[53,    90] loss: 1.245\n",
      "[54,    30] loss: 1.203\n",
      "[54,    60] loss: 1.250\n",
      "[54,    90] loss: 1.310\n",
      "[55,    30] loss: 1.237\n",
      "[55,    60] loss: 1.235\n",
      "[55,    90] loss: 1.292\n",
      "[56,    30] loss: 1.256\n",
      "[56,    60] loss: 1.305\n",
      "[56,    90] loss: 1.202\n",
      "[57,    30] loss: 1.302\n",
      "[57,    60] loss: 1.226\n",
      "[57,    90] loss: 1.235\n",
      "[58,    30] loss: 1.192\n",
      "[58,    60] loss: 1.341\n",
      "[58,    90] loss: 1.230\n",
      "[59,    30] loss: 1.287\n",
      "[59,    60] loss: 1.224\n",
      "[59,    90] loss: 1.253\n",
      "[60,    30] loss: 1.253\n",
      "[60,    60] loss: 1.285\n",
      "[60,    90] loss: 1.225\n",
      "[61,    30] loss: 1.210\n",
      "[61,    60] loss: 1.244\n",
      "[61,    90] loss: 1.309\n",
      "[62,    30] loss: 1.204\n",
      "[62,    60] loss: 1.234\n",
      "[62,    90] loss: 1.325\n",
      "[63,    30] loss: 1.312\n",
      "[63,    60] loss: 1.198\n",
      "[63,    90] loss: 1.253\n",
      "[64,    30] loss: 1.226\n",
      "[64,    60] loss: 1.292\n",
      "[64,    90] loss: 1.245\n",
      "[65,    30] loss: 1.230\n",
      "[65,    60] loss: 1.386\n",
      "[65,    90] loss: 1.147\n",
      "[66,    30] loss: 1.222\n",
      "[66,    60] loss: 1.211\n",
      "[66,    90] loss: 1.330\n",
      "[67,    30] loss: 1.295\n",
      "[67,    60] loss: 1.172\n",
      "[67,    90] loss: 1.296\n",
      "[68,    30] loss: 1.229\n",
      "[68,    60] loss: 1.305\n",
      "[68,    90] loss: 1.229\n",
      "[69,    30] loss: 1.204\n",
      "[69,    60] loss: 1.356\n",
      "[69,    90] loss: 1.203\n",
      "[70,    30] loss: 1.236\n",
      "[70,    60] loss: 1.284\n",
      "[70,    90] loss: 1.244\n",
      "[71,    30] loss: 1.229\n",
      "[71,    60] loss: 1.205\n",
      "[71,    90] loss: 1.329\n",
      "[72,    30] loss: 1.175\n",
      "[72,    60] loss: 1.283\n",
      "[72,    90] loss: 1.305\n",
      "[73,    30] loss: 1.260\n",
      "[73,    60] loss: 1.239\n",
      "[73,    90] loss: 1.264\n",
      "[74,    30] loss: 1.221\n",
      "[74,    60] loss: 1.320\n",
      "[74,    90] loss: 1.222\n",
      "[75,    30] loss: 1.312\n",
      "[75,    60] loss: 1.221\n",
      "[75,    90] loss: 1.231\n",
      "[76,    30] loss: 1.240\n",
      "[76,    60] loss: 1.322\n",
      "[76,    90] loss: 1.202\n",
      "[77,    30] loss: 1.263\n",
      "[77,    60] loss: 1.256\n",
      "[77,    90] loss: 1.244\n",
      "[78,    30] loss: 1.159\n",
      "[78,    60] loss: 1.352\n",
      "[78,    90] loss: 1.252\n",
      "[79,    30] loss: 1.201\n",
      "[79,    60] loss: 1.336\n",
      "[79,    90] loss: 1.226\n",
      "[80,    30] loss: 1.300\n",
      "[80,    60] loss: 1.296\n",
      "[80,    90] loss: 1.167\n",
      "[81,    30] loss: 1.288\n",
      "[81,    60] loss: 1.288\n",
      "[81,    90] loss: 1.188\n",
      "[82,    30] loss: 1.207\n",
      "[82,    60] loss: 1.290\n",
      "[82,    90] loss: 1.266\n",
      "[83,    30] loss: 1.312\n",
      "[83,    60] loss: 1.183\n",
      "[83,    90] loss: 1.268\n",
      "[84,    30] loss: 1.236\n",
      "[84,    60] loss: 1.228\n",
      "[84,    90] loss: 1.299\n",
      "[85,    30] loss: 1.246\n",
      "[85,    60] loss: 1.238\n",
      "[85,    90] loss: 1.279\n",
      "[86,    30] loss: 1.175\n",
      "[86,    60] loss: 1.317\n",
      "[86,    90] loss: 1.271\n",
      "[87,    30] loss: 1.315\n",
      "[87,    60] loss: 1.219\n",
      "[87,    90] loss: 1.229\n",
      "[88,    30] loss: 1.279\n",
      "[88,    60] loss: 1.266\n",
      "[88,    90] loss: 1.219\n",
      "[89,    30] loss: 1.246\n",
      "[89,    60] loss: 1.295\n",
      "[89,    90] loss: 1.222\n",
      "[90,    30] loss: 1.208\n",
      "[90,    60] loss: 1.244\n",
      "[90,    90] loss: 1.311\n",
      "[91,    30] loss: 1.276\n",
      "[91,    60] loss: 1.227\n",
      "[91,    90] loss: 1.261\n",
      "[92,    30] loss: 1.242\n",
      "[92,    60] loss: 1.323\n",
      "[92,    90] loss: 1.198\n",
      "[93,    30] loss: 1.327\n",
      "[93,    60] loss: 1.221\n",
      "[93,    90] loss: 1.215\n",
      "[94,    30] loss: 1.193\n",
      "[94,    60] loss: 1.259\n",
      "[94,    90] loss: 1.311\n",
      "[95,    30] loss: 1.270\n",
      "[95,    60] loss: 1.251\n",
      "[95,    90] loss: 1.243\n",
      "[96,    30] loss: 1.275\n",
      "[96,    60] loss: 1.302\n",
      "[96,    90] loss: 1.186\n",
      "[97,    30] loss: 1.278\n",
      "[97,    60] loss: 1.255\n",
      "[97,    90] loss: 1.230\n",
      "[98,    30] loss: 1.239\n",
      "[98,    60] loss: 1.325\n",
      "[98,    90] loss: 1.199\n",
      "[99,    30] loss: 1.294\n",
      "[99,    60] loss: 1.246\n",
      "[99,    90] loss: 1.223\n",
      "[100,    30] loss: 1.207\n",
      "[100,    60] loss: 1.312\n",
      "[100,    90] loss: 1.244\n",
      "[101,    30] loss: 1.267\n",
      "[101,    60] loss: 1.304\n",
      "[101,    90] loss: 1.192\n",
      "[102,    30] loss: 1.235\n",
      "[102,    60] loss: 1.305\n",
      "[102,    90] loss: 1.223\n",
      "[103,    30] loss: 1.252\n",
      "[103,    60] loss: 1.243\n",
      "[103,    90] loss: 1.267\n",
      "[104,    30] loss: 1.325\n",
      "[104,    60] loss: 1.226\n",
      "[104,    90] loss: 1.212\n",
      "[105,    30] loss: 1.186\n",
      "[105,    60] loss: 1.302\n",
      "[105,    90] loss: 1.275\n",
      "[106,    30] loss: 1.249\n",
      "[106,    60] loss: 1.276\n",
      "[106,    90] loss: 1.239\n",
      "[107,    30] loss: 1.264\n",
      "[107,    60] loss: 1.163\n",
      "[107,    90] loss: 1.336\n",
      "[108,    30] loss: 1.344\n",
      "[108,    60] loss: 1.192\n",
      "[108,    90] loss: 1.227\n",
      "[109,    30] loss: 1.249\n",
      "[109,    60] loss: 1.210\n",
      "[109,    90] loss: 1.303\n",
      "[110,    30] loss: 1.288\n",
      "[110,    60] loss: 1.195\n",
      "[110,    90] loss: 1.281\n",
      "[111,    30] loss: 1.195\n",
      "[111,    60] loss: 1.334\n",
      "[111,    90] loss: 1.234\n",
      "[112,    30] loss: 1.253\n",
      "[112,    60] loss: 1.243\n",
      "[112,    90] loss: 1.267\n",
      "[113,    30] loss: 1.254\n",
      "[113,    60] loss: 1.209\n",
      "[113,    90] loss: 1.300\n",
      "[114,    30] loss: 1.243\n",
      "[114,    60] loss: 1.335\n",
      "[114,    90] loss: 1.185\n"
     ]
    },
    {
     "name": "stdout",
     "output_type": "stream",
     "text": [
      "[115,    30] loss: 1.222\n",
      "[115,    60] loss: 1.261\n",
      "[115,    90] loss: 1.280\n",
      "[116,    30] loss: 1.320\n",
      "[116,    60] loss: 1.218\n",
      "[116,    90] loss: 1.225\n",
      "[117,    30] loss: 1.259\n",
      "[117,    60] loss: 1.172\n",
      "[117,    90] loss: 1.332\n",
      "[118,    30] loss: 1.270\n",
      "[118,    60] loss: 1.259\n",
      "[118,    90] loss: 1.234\n",
      "[119,    30] loss: 1.290\n",
      "[119,    60] loss: 1.204\n",
      "[119,    90] loss: 1.269\n",
      "[120,    30] loss: 1.266\n",
      "[120,    60] loss: 1.252\n",
      "[120,    90] loss: 1.245\n",
      "[121,    30] loss: 1.269\n",
      "[121,    60] loss: 1.189\n",
      "[121,    90] loss: 1.305\n",
      "[122,    30] loss: 1.311\n",
      "[122,    60] loss: 1.186\n",
      "[122,    90] loss: 1.266\n",
      "[123,    30] loss: 1.285\n",
      "[123,    60] loss: 1.282\n",
      "[123,    90] loss: 1.197\n",
      "[124,    30] loss: 1.188\n",
      "[124,    60] loss: 1.295\n",
      "[124,    90] loss: 1.281\n",
      "[125,    30] loss: 1.323\n",
      "[125,    60] loss: 1.242\n",
      "[125,    90] loss: 1.199\n",
      "[126,    30] loss: 1.213\n",
      "[126,    60] loss: 1.296\n",
      "[126,    90] loss: 1.254\n",
      "[127,    30] loss: 1.240\n",
      "[127,    60] loss: 1.223\n",
      "[127,    90] loss: 1.300\n",
      "[128,    30] loss: 1.224\n",
      "[128,    60] loss: 1.284\n",
      "[128,    90] loss: 1.255\n",
      "[129,    30] loss: 1.273\n",
      "[129,    60] loss: 1.217\n",
      "[129,    90] loss: 1.273\n",
      "[130,    30] loss: 1.255\n",
      "[130,    60] loss: 1.220\n",
      "[130,    90] loss: 1.288\n",
      "[131,    30] loss: 1.311\n",
      "[131,    60] loss: 1.199\n",
      "[131,    90] loss: 1.253\n",
      "[132,    30] loss: 1.237\n",
      "[132,    60] loss: 1.302\n",
      "[132,    90] loss: 1.224\n",
      "[133,    30] loss: 1.303\n",
      "[133,    60] loss: 1.168\n",
      "[133,    90] loss: 1.293\n",
      "[134,    30] loss: 1.254\n",
      "[134,    60] loss: 1.291\n",
      "[134,    90] loss: 1.218\n",
      "[135,    30] loss: 1.260\n",
      "[135,    60] loss: 1.282\n",
      "[135,    90] loss: 1.222\n",
      "[136,    30] loss: 1.280\n",
      "[136,    60] loss: 1.302\n",
      "[136,    90] loss: 1.181\n",
      "[137,    30] loss: 1.340\n",
      "[137,    60] loss: 1.188\n",
      "[137,    90] loss: 1.235\n",
      "[138,    30] loss: 1.251\n",
      "[138,    60] loss: 1.303\n",
      "[138,    90] loss: 1.210\n",
      "[139,    30] loss: 1.214\n",
      "[139,    60] loss: 1.236\n",
      "[139,    90] loss: 1.313\n",
      "[140,    30] loss: 1.245\n",
      "[140,    60] loss: 1.230\n",
      "[140,    90] loss: 1.288\n",
      "[141,    30] loss: 1.232\n",
      "[141,    60] loss: 1.324\n",
      "[141,    90] loss: 1.207\n",
      "[142,    30] loss: 1.262\n",
      "[142,    60] loss: 1.309\n",
      "[142,    90] loss: 1.193\n",
      "[143,    30] loss: 1.182\n",
      "[143,    60] loss: 1.302\n",
      "[143,    90] loss: 1.279\n",
      "[144,    30] loss: 1.239\n",
      "[144,    60] loss: 1.297\n",
      "[144,    90] loss: 1.227\n",
      "[145,    30] loss: 1.148\n",
      "[145,    60] loss: 1.351\n",
      "[145,    90] loss: 1.264\n",
      "[146,    30] loss: 1.277\n",
      "[146,    60] loss: 1.196\n",
      "[146,    90] loss: 1.289\n",
      "[147,    30] loss: 1.232\n",
      "[147,    60] loss: 1.154\n",
      "[147,    90] loss: 1.377\n",
      "[148,    30] loss: 1.269\n",
      "[148,    60] loss: 1.302\n",
      "[148,    90] loss: 1.192\n",
      "[149,    30] loss: 1.225\n",
      "[149,    60] loss: 1.311\n",
      "[149,    90] loss: 1.228\n",
      "[150,    30] loss: 1.218\n",
      "[150,    60] loss: 1.268\n",
      "[150,    90] loss: 1.277\n",
      "[151,    30] loss: 1.181\n",
      "[151,    60] loss: 1.367\n",
      "[151,    90] loss: 1.216\n",
      "[152,    30] loss: 1.303\n",
      "[152,    60] loss: 1.189\n",
      "[152,    90] loss: 1.271\n",
      "[153,    30] loss: 1.270\n",
      "[153,    60] loss: 1.333\n",
      "[153,    90] loss: 1.161\n",
      "[154,    30] loss: 1.266\n",
      "[154,    60] loss: 1.303\n",
      "[154,    90] loss: 1.194\n",
      "[155,    30] loss: 1.276\n",
      "[155,    60] loss: 1.255\n",
      "[155,    90] loss: 1.233\n",
      "[156,    30] loss: 1.266\n",
      "[156,    60] loss: 1.238\n",
      "[156,    90] loss: 1.259\n",
      "[157,    30] loss: 1.278\n",
      "[157,    60] loss: 1.194\n",
      "[157,    90] loss: 1.291\n",
      "[158,    30] loss: 1.215\n",
      "[158,    60] loss: 1.189\n",
      "[158,    90] loss: 1.359\n",
      "[159,    30] loss: 1.258\n",
      "[159,    60] loss: 1.278\n",
      "[159,    90] loss: 1.227\n",
      "[160,    30] loss: 1.283\n",
      "[160,    60] loss: 1.262\n",
      "[160,    90] loss: 1.218\n",
      "[161,    30] loss: 1.271\n",
      "[161,    60] loss: 1.242\n",
      "[161,    90] loss: 1.249\n",
      "[162,    30] loss: 1.181\n",
      "[162,    60] loss: 1.257\n",
      "[162,    90] loss: 1.325\n",
      "[163,    30] loss: 1.229\n",
      "[163,    60] loss: 1.223\n",
      "[163,    90] loss: 1.311\n",
      "[164,    30] loss: 1.175\n",
      "[164,    60] loss: 1.309\n",
      "[164,    90] loss: 1.279\n",
      "[165,    30] loss: 1.342\n",
      "[165,    60] loss: 1.190\n",
      "[165,    90] loss: 1.231\n",
      "[166,    30] loss: 1.262\n",
      "[166,    60] loss: 1.332\n",
      "[166,    90] loss: 1.169\n",
      "[167,    30] loss: 1.262\n",
      "[167,    60] loss: 1.209\n",
      "[167,    90] loss: 1.292\n",
      "[168,    30] loss: 1.232\n",
      "[168,    60] loss: 1.190\n",
      "[168,    90] loss: 1.340\n",
      "[169,    30] loss: 1.304\n",
      "[169,    60] loss: 1.253\n",
      "[169,    90] loss: 1.207\n",
      "[170,    30] loss: 1.288\n",
      "[170,    60] loss: 1.227\n",
      "[170,    90] loss: 1.249\n",
      "[171,    30] loss: 1.291\n",
      "[171,    60] loss: 1.273\n",
      "[171,    90] loss: 1.199\n",
      "[172,    30] loss: 1.210\n",
      "[172,    60] loss: 1.209\n",
      "[172,    90] loss: 1.345\n",
      "[173,    30] loss: 1.184\n",
      "[173,    60] loss: 1.357\n",
      "[173,    90] loss: 1.222\n",
      "[174,    30] loss: 1.334\n",
      "[174,    60] loss: 1.280\n",
      "[174,    90] loss: 1.150\n",
      "[175,    30] loss: 1.276\n",
      "[175,    60] loss: 1.239\n",
      "[175,    90] loss: 1.248\n",
      "[176,    30] loss: 1.252\n",
      "[176,    60] loss: 1.207\n",
      "[176,    90] loss: 1.304\n",
      "[177,    30] loss: 1.248\n",
      "[177,    60] loss: 1.247\n",
      "[177,    90] loss: 1.269\n",
      "[178,    30] loss: 1.289\n",
      "[178,    60] loss: 1.288\n",
      "[178,    90] loss: 1.186\n",
      "[179,    30] loss: 1.256\n",
      "[179,    60] loss: 1.247\n",
      "[179,    90] loss: 1.260\n",
      "[180,    30] loss: 1.234\n",
      "[180,    60] loss: 1.213\n",
      "[180,    90] loss: 1.316\n",
      "[181,    30] loss: 1.214\n",
      "[181,    60] loss: 1.274\n",
      "[181,    90] loss: 1.275\n",
      "[182,    30] loss: 1.332\n",
      "[182,    60] loss: 1.199\n",
      "[182,    90] loss: 1.232\n",
      "[183,    30] loss: 1.263\n",
      "[183,    60] loss: 1.191\n",
      "[183,    90] loss: 1.310\n",
      "[184,    30] loss: 1.221\n",
      "[184,    60] loss: 1.239\n",
      "[184,    90] loss: 1.304\n",
      "[185,    30] loss: 1.247\n",
      "[185,    60] loss: 1.200\n",
      "[185,    90] loss: 1.317\n",
      "[186,    30] loss: 1.247\n",
      "[186,    60] loss: 1.282\n",
      "[186,    90] loss: 1.235\n",
      "[187,    30] loss: 1.254\n",
      "[187,    60] loss: 1.186\n",
      "[187,    90] loss: 1.323\n",
      "[188,    30] loss: 1.203\n",
      "[188,    60] loss: 1.323\n",
      "[188,    90] loss: 1.237\n",
      "[189,    30] loss: 1.203\n",
      "[189,    60] loss: 1.310\n",
      "[189,    90] loss: 1.251\n",
      "[190,    30] loss: 1.283\n",
      "[190,    60] loss: 1.278\n",
      "[190,    90] loss: 1.203\n",
      "[191,    30] loss: 1.252\n",
      "[191,    60] loss: 1.347\n",
      "[191,    90] loss: 1.165\n",
      "[192,    30] loss: 1.238\n",
      "[192,    60] loss: 1.278\n",
      "[192,    90] loss: 1.246\n",
      "[193,    30] loss: 1.251\n",
      "[193,    60] loss: 1.257\n",
      "[193,    90] loss: 1.255\n",
      "[194,    30] loss: 1.196\n",
      "[194,    60] loss: 1.203\n",
      "[194,    90] loss: 1.364\n",
      "[195,    30] loss: 1.271\n",
      "[195,    60] loss: 1.208\n",
      "[195,    90] loss: 1.284\n",
      "[196,    30] loss: 1.233\n",
      "[196,    60] loss: 1.217\n",
      "[196,    90] loss: 1.313\n",
      "[197,    30] loss: 1.228\n",
      "[197,    60] loss: 1.265\n",
      "[197,    90] loss: 1.270\n",
      "[198,    30] loss: 1.209\n",
      "[198,    60] loss: 1.351\n",
      "[198,    90] loss: 1.203\n",
      "[199,    30] loss: 1.262\n",
      "[199,    60] loss: 1.236\n",
      "[199,    90] loss: 1.265\n",
      "[200,    30] loss: 1.173\n",
      "[200,    60] loss: 1.298\n",
      "[200,    90] loss: 1.293\n",
      "Finished Training\n",
      "393.1694522\n"
     ]
    },
    {
     "data": {
      "image/png": "[encoded data removed]",
      "text/plain": [
       "<Figure size 432x288 with 1 Axes>"
      ]
     },
     "metadata": {
      "needs_background": "light"
     },
     "output_type": "display_data"
    }
   ],
   "source": [
    "loss_history = [] \n",
    "epoch = 200\n",
    "tic = time.perf_counter()\n",
    "for e in range(epoch): # loop over the dataset multiple times \n",
    "    running_loss = 0.0 \n",
    "    for i, data in enumerate(trainloader, 0): \n",
    "        # get the inputs; data is a list of [inputs, labels] \n",
    "        inputs, labels = data \n",
    "        # zero the parameter gradients \n",
    "        optimizer.zero_grad() \n",
    "        # forward + backward + optimize \n",
    "        outputs = net(inputs) \n",
    "        loss = criterion(outputs, labels) \n",
    "        loss.backward() \n",
    "        optimizer.step() \n",
    "        \n",
    "        # print statistics \n",
    "        running_loss += loss.item() \n",
    "        if i % 30 == 29: # print every 2000 mini-batches \n",
    "            print('[%d, %5d] loss: %.3f' % \n",
    "                (e + 1, i + 1, running_loss / 30)) \n",
    "            loss_history.append(running_loss) \n",
    "            running_loss = 0.0 \n",
    "toc = time.perf_counter()\n",
    "print('Finished Training') \n",
    "print(toc-tic)\n",
    "plt.plot(loss_history, label = 'training loss', color = 'r') \n",
    "plt.legend(loc = \"upper left\") \n",
    "plt.show() "
   ]
  },
  {
   "cell_type": "code",
   "execution_count": 55,
   "id": "d8df9a77",
   "metadata": {},
   "outputs": [
    {
     "name": "stdout",
     "output_type": "stream",
     "text": [
      "0.0002730000001065491\n",
      "Predicted:  Cakes\n"
     ]
    }
   ],
   "source": [
    "tic = time.perf_counter()\n",
    "_, predicted_labels = torch.max(outputs, 1) \n",
    "toc = time.perf_counter()\n",
    "print(toc-tic)\n",
    "print('Predicted: ', ' '.join('%5s' % classes[predicted_labels[j]] for j in range(1))) "
   ]
  },
  {
   "cell_type": "code",
   "execution_count": 56,
   "id": "d17c8e31",
   "metadata": {},
   "outputs": [
    {
     "name": "stdout",
     "output_type": "stream",
     "text": [
      "Accuracy of the network on the 10000 test images: 23 %\n"
     ]
    }
   ],
   "source": [
    "correct = 0 \n",
    "total = 0 \n",
    "with torch.no_grad(): \n",
    "    for data in testloader: \n",
    "        images, groundtruth_labels = data \n",
    "        outputs = net(images) \n",
    "        _, predicted_labels = torch.max(outputs.data, 1) \n",
    "        total += groundtruth_labels.size(0) \n",
    "        correct += (predicted_labels == groundtruth_labels).sum().item() \n",
    "print('Accuracy of the network on the 10000 test images: %d %%' % (100 * correct / total)) "
   ]
  },
  {
   "cell_type": "code",
   "execution_count": 57,
   "id": "9a668a68",
   "metadata": {},
   "outputs": [
    {
     "name": "stdout",
     "output_type": "stream",
     "text": [
      "[[11  5 14]\n",
      " [18  1 11]\n",
      " [21  0  9]]\n"
     ]
    }
   ],
   "source": [
    "gttt = []\n",
    "pddd = []\n",
    "with torch.no_grad(): \n",
    "    for data in testloader: \n",
    "        images, groundtruth_labels = data \n",
    "        outputs = net(images) \n",
    "        _, predicted_labels = torch.max(outputs, 1) \n",
    "        int_value1 = groundtruth_labels.item()\n",
    "        int_value2 = predicted_labels.item()\n",
    "        gttt.append(int_value1)\n",
    "        pddd.append(int_value2)\n",
    "print(confusion_matrix(gttt,pddd))"
   ]
  },
  {
   "cell_type": "code",
   "execution_count": null,
   "id": "e1f50771",
   "metadata": {},
   "outputs": [],
   "source": []
  }
 ],
 "metadata": {
  "kernelspec": {
   "display_name": "Python 3 (ipykernel)",
   "language": "python",
   "name": "python3"
  },
  "language_info": {
   "codemirror_mode": {
    "name": "ipython",
    "version": 3
   },
   "file_extension": ".py",
   "mimetype": "text/x-python",
   "name": "python",
   "nbconvert_exporter": "python",
   "pygments_lexer": "ipython3",
   "version": "3.9.12"
  }
 },
 "nbformat": 4,
 "nbformat_minor": 5
}
