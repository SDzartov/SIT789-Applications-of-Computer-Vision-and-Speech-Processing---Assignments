{
 "cells": [
  {
   "cell_type": "code",
   "execution_count": 4,
   "id": "f84830ff",
   "metadata": {},
   "outputs": [
    {
     "name": "stderr",
     "output_type": "stream",
     "text": [
      "C:\\Users\\shane\\Anaconda3\\lib\\site-packages\\numpy\\_distributor_init.py:32: UserWarning: loaded more than 1 DLL from .libs:\n",
      "C:\\Users\\shane\\Anaconda3\\lib\\site-packages\\numpy\\.libs\\libopenblas.IPBC74C7KURV7CB2PKT5Z5FNR3SIBV4J.gfortran-win_amd64.dll\n",
      "C:\\Users\\shane\\Anaconda3\\lib\\site-packages\\numpy\\.libs\\libopenblas.NOIJJG62EMASZI6NYURL6JBKM4EVBGM7.gfortran-win_amd64.dll\n",
      "C:\\Users\\shane\\Anaconda3\\lib\\site-packages\\numpy\\.libs\\libopenblas.XWYDX2IKJW2NMTWSFYNGFUWKQU3LYTCZ.gfortran-win_amd64.dll\n",
      "  stacklevel=1)\n"
     ]
    }
   ],
   "source": [
    "import numpy as np\n",
    "import cv2 as cv\n",
    "from sklearn.cluster import KMeans\n",
    "from sklearn.metrics import classification_report,confusion_matrix,accuracy_score\n",
    "class Dictionary(object):\n",
    "    def __init__(self, name, img_filenames, num_words):\n",
    "        self.name = name #name of your dictionary\n",
    "        self.img_filenames = img_filenames #list of image filenames\n",
    "        self.num_words = num_words #the number of words\n",
    "        self.training_data = [] #this is the training data required by the K-Means algorithm\n",
    "        self.words = [] #list of words, which are the centroids of clusters\n",
    " \n",
    "    def learn(self):\n",
    "        sift = cv.xfeatures2d.SIFT_create()\n",
    "        num_keypoints = [] #this is used to store the number of keypoints in each image\n",
    "        #load training images and compute SIFT descriptors\n",
    "        for filename in self.img_filenames:\n",
    "            img = cv.imread(filename)\n",
    "            img_gray = cv.cvtColor(img, cv.COLOR_BGR2GRAY)\n",
    "            list_des = sift.detectAndCompute(img_gray, None)[1]\n",
    "            if list_des is None:\n",
    "                num_keypoints.append(0)\n",
    "            else:\n",
    "                num_keypoints.append(len(list_des))\n",
    "                for des in list_des:\n",
    "                    self.training_data.append(des)\n",
    "        #cluster SIFT descriptors using K-means algorithm\n",
    "        kmeans = KMeans(self.num_words)\n",
    "        kmeans.fit(self.training_data)\n",
    "        self.words = kmeans.cluster_centers_\n",
    "        #create word histograms for training images\n",
    "        training_word_histograms = [] #list of word histograms of all training images\n",
    "        index = 0\n",
    "        for i in range(0, len(self.img_filenames)):\n",
    "            #for each file, create a histogram\n",
    "            histogram = np.zeros(self.num_words, np.float32)\n",
    "            #if some keypoints exist\n",
    "            if num_keypoints[i] > 0:\n",
    "                for j in range(0, num_keypoints[i]):\n",
    "                    histogram[kmeans.labels_[j + index]] += 1\n",
    "                index += num_keypoints[i]\n",
    "                histogram /= num_keypoints[i]\n",
    "                training_word_histograms.append(histogram)\n",
    "        return training_word_histograms\n",
    " \n",
    "    def create_word_histograms(self, img_filenames):\n",
    "        sift = cv.xfeatures2d.SIFT_create()\n",
    "        histograms = []\n",
    "        for filename in img_filenames:\n",
    "            img = cv.imread(filename)\n",
    "            img_gray = cv.cvtColor(img, cv.COLOR_BGR2GRAY)\n",
    "            descriptors = sift.detectAndCompute(img_gray, None)[1]\n",
    "            histogram = np.zeros(self.num_words, np.float32) #word histogram for the input image\n",
    "            if descriptors is not None:\n",
    "                for des in descriptors:\n",
    "                    #find the best matching word\n",
    "                    min_distance = 1111111 #this can be any large number\n",
    "                    matching_word_ID = -1 #initial matching_word_ID=-1 means no matching\n",
    "                    for i in range(0, self.num_words): #search for the best matching word\n",
    "                        distance = np.linalg.norm(des - self.words[i])\n",
    "                        if distance < min_distance:\n",
    "                            min_distance = distance\n",
    "                            matching_word_ID = i\n",
    "                    histogram[matching_word_ID] += 1\n",
    "                histogram /= len(descriptors) #normalise histogram to frequencies\n",
    "            histograms.append(histogram)\n",
    "        return histograms"
   ]
  },
  {
   "cell_type": "code",
   "execution_count": 5,
   "id": "bf229e92",
   "metadata": {},
   "outputs": [],
   "source": [
    "import os\n",
    "foods = ['Cakes', 'Pasta', 'Pizza']\n",
    "path = 'FoodImages/'\n",
    "training_file_names = []\n",
    "training_food_labels = []\n",
    "for i in range(0, len(foods)):\n",
    "    sub_path = path + 'Train/' + foods[i] + '/'\n",
    "    sub_file_names = [os.path.join(sub_path, f) for f in os.listdir(sub_path)]\n",
    "    sub_food_labels = [i] * len(sub_file_names) #create a list of N elements, all are i\n",
    "    training_file_names += sub_file_names\n",
    "    training_food_labels += sub_food_labels\n",
    "training_file_names.sort()\n",
    "training_food_labels.sort()"
   ]
  },
  {
   "cell_type": "code",
   "execution_count": 6,
   "id": "c22df3ec",
   "metadata": {},
   "outputs": [],
   "source": [
    "num_words = 50\n",
    "dictionary_name = 'food'\n",
    "dictionary = Dictionary(dictionary_name, training_file_names, num_words)"
   ]
  },
  {
   "cell_type": "code",
   "execution_count": 7,
   "id": "ed94ffa0",
   "metadata": {},
   "outputs": [],
   "source": [
    "training_word_histograms = dictionary.learn()"
   ]
  },
  {
   "cell_type": "code",
   "execution_count": 8,
   "id": "796f5c7b",
   "metadata": {},
   "outputs": [],
   "source": [
    "import pickle\n",
    "#save dictionary\n",
    "with open('food_dictionary.dic', 'wb') as f: #'wb' is for binary write\n",
    "    pickle.dump(dictionary, f)"
   ]
  },
  {
   "cell_type": "code",
   "execution_count": 9,
   "id": "47493595",
   "metadata": {},
   "outputs": [],
   "source": [
    "with open('food_dictionary.dic', 'rb') as f: #'rb' is for binary read\n",
    "    dictionary = pickle.load(f)"
   ]
  },
  {
   "cell_type": "markdown",
   "id": "23678249",
   "metadata": {},
   "source": [
    "### KNN"
   ]
  },
  {
   "cell_type": "code",
   "execution_count": 10,
   "id": "46449c4b",
   "metadata": {},
   "outputs": [
    {
     "data": {
      "text/plain": [
       "KNeighborsClassifier()"
      ]
     },
     "execution_count": 10,
     "metadata": {},
     "output_type": "execute_result"
    }
   ],
   "source": [
    "num_nearest_neighbours = 5 #number of neighbours\n",
    "from sklearn.neighbors import KNeighborsClassifier\n",
    "knn = KNeighborsClassifier(n_neighbors = num_nearest_neighbours)\n",
    "knn.fit(training_word_histograms, training_food_labels)"
   ]
  },
  {
   "cell_type": "code",
   "execution_count": 11,
   "id": "d440966b",
   "metadata": {},
   "outputs": [
    {
     "name": "stdout",
     "output_type": "stream",
     "text": [
      "Food label:  [1]\n"
     ]
    }
   ],
   "source": [
    "test_file_names = ['FoodImages/Test/Pasta/pasta35.jpg']\n",
    "word_histograms = dictionary.create_word_histograms(test_file_names)\n",
    "predicted_food_labels = knn.predict(word_histograms)\n",
    "print('Food label: ', predicted_food_labels)"
   ]
  },
  {
   "cell_type": "markdown",
   "id": "eb0713c1",
   "metadata": {},
   "source": [
    "### SVM"
   ]
  },
  {
   "cell_type": "code",
   "execution_count": 12,
   "id": "78966e65",
   "metadata": {},
   "outputs": [
    {
     "data": {
      "text/plain": [
       "SVC(C=50, kernel='linear')"
      ]
     },
     "execution_count": 12,
     "metadata": {},
     "output_type": "execute_result"
    }
   ],
   "source": [
    "from sklearn import svm\n",
    "svm_classifier = svm.SVC(C = 50,kernel = 'linear') \n",
    "svm_classifier.fit(training_word_histograms, training_food_labels)"
   ]
  },
  {
   "cell_type": "code",
   "execution_count": 13,
   "id": "1d37f7db",
   "metadata": {},
   "outputs": [
    {
     "name": "stdout",
     "output_type": "stream",
     "text": [
      "Food label:  [1]\n"
     ]
    }
   ],
   "source": [
    "test_file_names = ['FoodImages/Test/Pasta/pasta35.jpg']\n",
    "word_histograms = dictionary.create_word_histograms(test_file_names)\n",
    "predicted_food_labels = svm_classifier.predict(word_histograms)\n",
    "print('Food label: ', predicted_food_labels)"
   ]
  },
  {
   "cell_type": "markdown",
   "id": "0a96be39",
   "metadata": {},
   "source": [
    "### AdaBoost"
   ]
  },
  {
   "cell_type": "code",
   "execution_count": 14,
   "id": "bdccc05c",
   "metadata": {},
   "outputs": [
    {
     "data": {
      "text/plain": [
       "AdaBoostClassifier(n_estimators=150, random_state=0)"
      ]
     },
     "execution_count": 14,
     "metadata": {},
     "output_type": "execute_result"
    }
   ],
   "source": [
    "from sklearn.ensemble import AdaBoostClassifier\n",
    "adb_classifier = AdaBoostClassifier(n_estimators = 150, #weak classifiers\n",
    " random_state = 0)\n",
    "adb_classifier.fit(training_word_histograms, training_food_labels)"
   ]
  },
  {
   "cell_type": "code",
   "execution_count": 15,
   "id": "65bc65b6",
   "metadata": {},
   "outputs": [
    {
     "name": "stdout",
     "output_type": "stream",
     "text": [
      "Food label:  [1]\n"
     ]
    }
   ],
   "source": [
    "test_file_names = ['FoodImages/Test/Pasta/pasta35.jpg']\n",
    "word_histograms = dictionary.create_word_histograms(test_file_names)\n",
    "predicted_food_labels = adb_classifier.predict(word_histograms)\n",
    "print('Food label: ', predicted_food_labels)"
   ]
  },
  {
   "cell_type": "markdown",
   "id": "8e2ce2ce",
   "metadata": {},
   "source": [
    "----"
   ]
  },
  {
   "cell_type": "code",
   "execution_count": 16,
   "id": "a7247926",
   "metadata": {},
   "outputs": [],
   "source": [
    "foods = ['Cakes', 'Pasta', 'Pizza']\n",
    "path = 'FoodImages/'\n",
    "test_file_names = []\n",
    "test_food_labels = []\n",
    "for i in range(0, len(foods)):\n",
    "    sub_path = path + 'Test/' + foods[i] + '/'\n",
    "    sub_file_names = [os.path.join(sub_path, f) for f in os.listdir(sub_path)]\n",
    "    sub_food_labels = [i] * len(sub_file_names) #create a list of N elements, all are i\n",
    "    test_file_names += sub_file_names\n",
    "    test_food_labels += sub_food_labels\n",
    "test_file_names.sort()\n",
    "test_food_labels.sort()"
   ]
  },
  {
   "cell_type": "markdown",
   "id": "bc85e482",
   "metadata": {},
   "source": [
    "----"
   ]
  },
  {
   "cell_type": "code",
   "execution_count": 26,
   "id": "f9986719",
   "metadata": {
    "scrolled": true
   },
   "outputs": [
    {
     "name": "stdout",
     "output_type": "stream",
     "text": [
      "[[17  6  7]\n",
      " [ 0 28  2]\n",
      " [ 0  8 22]]\n",
      "74.44444444444444\n"
     ]
    }
   ],
   "source": [
    "num_nearest_neighbours = 10 #number of neighbours\n",
    "knn = KNeighborsClassifier(n_neighbors = num_nearest_neighbours)\n",
    "knn.fit(training_word_histograms, training_food_labels)\n",
    "word_histograms = dictionary.create_word_histograms(test_file_names)\n",
    "predicted_food_labels = knn.predict(word_histograms)\n",
    "cm = confusion_matrix(test_food_labels, predicted_food_labels)\n",
    "acc = accuracy_score(test_food_labels, predicted_food_labels)\n",
    "print(cm)\n",
    "print(acc*100)"
   ]
  },
  {
   "cell_type": "code",
   "execution_count": 27,
   "id": "3eb4e14b",
   "metadata": {},
   "outputs": [
    {
     "name": "stdout",
     "output_type": "stream",
     "text": [
      "[[24  3  3]\n",
      " [ 0 23  7]\n",
      " [ 1  3 26]]\n",
      "81.11111111111111\n"
     ]
    }
   ],
   "source": [
    "svm_classifier = svm.SVC(C = 10,kernel = 'linear') \n",
    "svm_classifier.fit(training_word_histograms, training_food_labels)\n",
    "word_histograms = dictionary.create_word_histograms(test_file_names)\n",
    "predicted_food_labels = svm_classifier.predict(word_histograms)\n",
    "cm = confusion_matrix(test_food_labels, predicted_food_labels)\n",
    "acc = accuracy_score(test_food_labels, predicted_food_labels)\n",
    "print(cm)\n",
    "print(acc*100)"
   ]
  },
  {
   "cell_type": "code",
   "execution_count": 28,
   "id": "df5c1dc4",
   "metadata": {},
   "outputs": [
    {
     "name": "stdout",
     "output_type": "stream",
     "text": [
      "[[23  2  5]\n",
      " [ 1 20  9]\n",
      " [ 3  7 20]]\n",
      "70.0\n"
     ]
    }
   ],
   "source": [
    "adb_classifier = AdaBoostClassifier(n_estimators = 50, random_state = 0)\n",
    "adb_classifier.fit(training_word_histograms, training_food_labels)\n",
    "word_histograms = dictionary.create_word_histograms(test_file_names)\n",
    "predicted_food_labels = adb_classifier.predict(word_histograms)\n",
    "cm = confusion_matrix(test_food_labels, predicted_food_labels)\n",
    "acc = accuracy_score(test_food_labels, predicted_food_labels)\n",
    "print(cm)\n",
    "print(acc*100)"
   ]
  },
  {
   "cell_type": "markdown",
   "id": "83e24213",
   "metadata": {},
   "source": [
    "----"
   ]
  },
  {
   "cell_type": "code",
   "execution_count": 29,
   "id": "55a4ff30",
   "metadata": {
    "scrolled": false
   },
   "outputs": [
    {
     "name": "stdout",
     "output_type": "stream",
     "text": [
      "[[16  7  7]\n",
      " [ 0 25  5]\n",
      " [ 0  8 22]]\n",
      "70.0\n"
     ]
    }
   ],
   "source": [
    "num_nearest_neighbours = 15 #number of neighbours\n",
    "knn = KNeighborsClassifier(n_neighbors = num_nearest_neighbours)\n",
    "knn.fit(training_word_histograms, training_food_labels)\n",
    "word_histograms = dictionary.create_word_histograms(test_file_names)\n",
    "predicted_food_labels = knn.predict(word_histograms)\n",
    "cm = confusion_matrix(test_food_labels, predicted_food_labels)\n",
    "acc = accuracy_score(test_food_labels, predicted_food_labels)\n",
    "print(cm)\n",
    "print(acc*100)"
   ]
  },
  {
   "cell_type": "code",
   "execution_count": 30,
   "id": "ea723e88",
   "metadata": {},
   "outputs": [
    {
     "name": "stdout",
     "output_type": "stream",
     "text": [
      "[[25  2  3]\n",
      " [ 0 22  8]\n",
      " [ 1  1 28]]\n",
      "83.33333333333334\n"
     ]
    }
   ],
   "source": [
    "svm_classifier = svm.SVC(C = 20,kernel = 'linear') \n",
    "svm_classifier.fit(training_word_histograms, training_food_labels)\n",
    "word_histograms = dictionary.create_word_histograms(test_file_names)\n",
    "predicted_food_labels = svm_classifier.predict(word_histograms)\n",
    "cm = confusion_matrix(test_food_labels, predicted_food_labels)\n",
    "acc = accuracy_score(test_food_labels, predicted_food_labels)\n",
    "print(cm)\n",
    "print(acc*100)"
   ]
  },
  {
   "cell_type": "code",
   "execution_count": 31,
   "id": "b66dfc6b",
   "metadata": {},
   "outputs": [
    {
     "name": "stdout",
     "output_type": "stream",
     "text": [
      "[[22  3  5]\n",
      " [ 0 22  8]\n",
      " [ 4  6 20]]\n",
      "71.11111111111111\n"
     ]
    }
   ],
   "source": [
    "adb_classifier = AdaBoostClassifier(n_estimators = 100, random_state = 0)\n",
    "adb_classifier.fit(training_word_histograms, training_food_labels)\n",
    "word_histograms = dictionary.create_word_histograms(test_file_names)\n",
    "predicted_food_labels = adb_classifier.predict(word_histograms)\n",
    "cm = confusion_matrix(test_food_labels, predicted_food_labels)\n",
    "acc = accuracy_score(test_food_labels, predicted_food_labels)\n",
    "print(cm)\n",
    "print(acc*100)"
   ]
  },
  {
   "cell_type": "markdown",
   "id": "8f12c277",
   "metadata": {},
   "source": [
    "----"
   ]
  },
  {
   "cell_type": "code",
   "execution_count": 32,
   "id": "ef85a979",
   "metadata": {
    "scrolled": true
   },
   "outputs": [
    {
     "name": "stdout",
     "output_type": "stream",
     "text": [
      "[[13  9  8]\n",
      " [ 0 25  5]\n",
      " [ 0 10 20]]\n",
      "64.44444444444444\n"
     ]
    }
   ],
   "source": [
    "num_nearest_neighbours = 20 #number of neighbours\n",
    "knn = KNeighborsClassifier(n_neighbors = num_nearest_neighbours)\n",
    "knn.fit(training_word_histograms, training_food_labels)\n",
    "word_histograms = dictionary.create_word_histograms(test_file_names)\n",
    "predicted_food_labels = knn.predict(word_histograms)\n",
    "cm = confusion_matrix(test_food_labels, predicted_food_labels)\n",
    "acc = accuracy_score(test_food_labels, predicted_food_labels)\n",
    "print(cm)\n",
    "print(acc*100)"
   ]
  },
  {
   "cell_type": "code",
   "execution_count": 33,
   "id": "512367d6",
   "metadata": {},
   "outputs": [
    {
     "name": "stdout",
     "output_type": "stream",
     "text": [
      "[[25  2  3]\n",
      " [ 0 23  7]\n",
      " [ 1  1 28]]\n",
      "84.44444444444444\n"
     ]
    }
   ],
   "source": [
    "svm_classifier = svm.SVC(C = 30,kernel = 'linear') \n",
    "svm_classifier.fit(training_word_histograms, training_food_labels)\n",
    "word_histograms = dictionary.create_word_histograms(test_file_names)\n",
    "predicted_food_labels = svm_classifier.predict(word_histograms)\n",
    "cm = confusion_matrix(test_food_labels, predicted_food_labels)\n",
    "acc = accuracy_score(test_food_labels, predicted_food_labels)\n",
    "print(cm)\n",
    "print(acc*100)"
   ]
  },
  {
   "cell_type": "code",
   "execution_count": 34,
   "id": "6a5a60c4",
   "metadata": {},
   "outputs": [
    {
     "name": "stdout",
     "output_type": "stream",
     "text": [
      "[[18  2 10]\n",
      " [ 0 21  9]\n",
      " [ 3  5 22]]\n",
      "67.77777777777779\n"
     ]
    }
   ],
   "source": [
    "adb_classifier = AdaBoostClassifier(n_estimators = 150, random_state = 0)\n",
    "adb_classifier.fit(training_word_histograms, training_food_labels)\n",
    "word_histograms = dictionary.create_word_histograms(test_file_names)\n",
    "predicted_food_labels = adb_classifier.predict(word_histograms)\n",
    "cm = confusion_matrix(test_food_labels, predicted_food_labels)\n",
    "acc = accuracy_score(test_food_labels, predicted_food_labels)\n",
    "print(cm)\n",
    "print(acc*100)"
   ]
  },
  {
   "cell_type": "markdown",
   "id": "a1029882",
   "metadata": {},
   "source": [
    "----"
   ]
  },
  {
   "cell_type": "code",
   "execution_count": 35,
   "id": "54eec8a4",
   "metadata": {
    "scrolled": true
   },
   "outputs": [
    {
     "name": "stdout",
     "output_type": "stream",
     "text": [
      "[[12 10  8]\n",
      " [ 0 25  5]\n",
      " [ 0 10 20]]\n",
      "63.33333333333333\n"
     ]
    }
   ],
   "source": [
    "num_nearest_neighbours = 25 #number of neighbours\n",
    "knn = KNeighborsClassifier(n_neighbors = num_nearest_neighbours)\n",
    "knn.fit(training_word_histograms, training_food_labels)\n",
    "word_histograms = dictionary.create_word_histograms(test_file_names)\n",
    "predicted_food_labels = knn.predict(word_histograms)\n",
    "cm = confusion_matrix(test_food_labels, predicted_food_labels)\n",
    "acc = accuracy_score(test_food_labels, predicted_food_labels)\n",
    "print(cm)\n",
    "print(acc*100)"
   ]
  },
  {
   "cell_type": "code",
   "execution_count": 36,
   "id": "a6fa150d",
   "metadata": {},
   "outputs": [
    {
     "name": "stdout",
     "output_type": "stream",
     "text": [
      "[[26  2  2]\n",
      " [ 0 24  6]\n",
      " [ 1  3 26]]\n",
      "84.44444444444444\n"
     ]
    }
   ],
   "source": [
    "svm_classifier = svm.SVC(C = 40,kernel = 'linear') \n",
    "svm_classifier.fit(training_word_histograms, training_food_labels)\n",
    "word_histograms = dictionary.create_word_histograms(test_file_names)\n",
    "predicted_food_labels = svm_classifier.predict(word_histograms)\n",
    "cm = confusion_matrix(test_food_labels, predicted_food_labels)\n",
    "acc = accuracy_score(test_food_labels, predicted_food_labels)\n",
    "print(cm)\n",
    "print(acc*100)"
   ]
  },
  {
   "cell_type": "code",
   "execution_count": 37,
   "id": "d0949c75",
   "metadata": {},
   "outputs": [
    {
     "name": "stdout",
     "output_type": "stream",
     "text": [
      "[[18  2 10]\n",
      " [ 0 21  9]\n",
      " [ 3  5 22]]\n",
      "67.77777777777779\n"
     ]
    }
   ],
   "source": [
    "adb_classifier = AdaBoostClassifier(n_estimators = 200, random_state = 0)\n",
    "adb_classifier.fit(training_word_histograms, training_food_labels)\n",
    "word_histograms = dictionary.create_word_histograms(test_file_names)\n",
    "predicted_food_labels = adb_classifier.predict(word_histograms)\n",
    "cm = confusion_matrix(test_food_labels, predicted_food_labels)\n",
    "acc = accuracy_score(test_food_labels, predicted_food_labels)\n",
    "print(cm)\n",
    "print(acc*100)"
   ]
  },
  {
   "cell_type": "markdown",
   "id": "588e8932",
   "metadata": {},
   "source": [
    "----"
   ]
  },
  {
   "cell_type": "code",
   "execution_count": 38,
   "id": "8a7e37dc",
   "metadata": {
    "scrolled": true
   },
   "outputs": [
    {
     "name": "stdout",
     "output_type": "stream",
     "text": [
      "[[10 10 10]\n",
      " [ 0 26  4]\n",
      " [ 0  8 22]]\n",
      "64.44444444444444\n"
     ]
    }
   ],
   "source": [
    "num_nearest_neighbours = 30 #number of neighbours\n",
    "knn = KNeighborsClassifier(n_neighbors = num_nearest_neighbours)\n",
    "knn.fit(training_word_histograms, training_food_labels)\n",
    "word_histograms = dictionary.create_word_histograms(test_file_names)\n",
    "predicted_food_labels = knn.predict(word_histograms)\n",
    "cm = confusion_matrix(test_food_labels, predicted_food_labels)\n",
    "acc = accuracy_score(test_food_labels, predicted_food_labels)\n",
    "print(cm)\n",
    "print(acc*100)"
   ]
  },
  {
   "cell_type": "code",
   "execution_count": 39,
   "id": "dc587e57",
   "metadata": {},
   "outputs": [
    {
     "name": "stdout",
     "output_type": "stream",
     "text": [
      "[[26  2  2]\n",
      " [ 0 24  6]\n",
      " [ 1  3 26]]\n",
      "84.44444444444444\n"
     ]
    }
   ],
   "source": [
    "svm_classifier = svm.SVC(C = 50,kernel = 'linear') \n",
    "svm_classifier.fit(training_word_histograms, training_food_labels)\n",
    "word_histograms = dictionary.create_word_histograms(test_file_names)\n",
    "predicted_food_labels = svm_classifier.predict(word_histograms)\n",
    "cm = confusion_matrix(test_food_labels, predicted_food_labels)\n",
    "acc = accuracy_score(test_food_labels, predicted_food_labels)\n",
    "print(cm)\n",
    "print(acc*100)"
   ]
  },
  {
   "cell_type": "code",
   "execution_count": 40,
   "id": "a996b607",
   "metadata": {},
   "outputs": [
    {
     "name": "stdout",
     "output_type": "stream",
     "text": [
      "[[21  1  8]\n",
      " [ 0 20 10]\n",
      " [ 3  3 24]]\n",
      "72.22222222222221\n"
     ]
    }
   ],
   "source": [
    "adb_classifier = AdaBoostClassifier(n_estimators = 250, random_state = 0)\n",
    "adb_classifier.fit(training_word_histograms, training_food_labels)\n",
    "word_histograms = dictionary.create_word_histograms(test_file_names)\n",
    "predicted_food_labels = adb_classifier.predict(word_histograms)\n",
    "cm = confusion_matrix(test_food_labels, predicted_food_labels)\n",
    "acc = accuracy_score(test_food_labels, predicted_food_labels)\n",
    "print(cm)\n",
    "print(acc*100)"
   ]
  },
  {
   "cell_type": "code",
   "execution_count": null,
   "id": "07a6e559",
   "metadata": {},
   "outputs": [],
   "source": []
  }
 ],
 "metadata": {
  "kernelspec": {
   "display_name": "Python 3 (ipykernel)",
   "language": "python",
   "name": "python3"
  },
  "language_info": {
   "codemirror_mode": {
    "name": "ipython",
    "version": 3
   },
   "file_extension": ".py",
   "mimetype": "text/x-python",
   "name": "python",
   "nbconvert_exporter": "python",
   "pygments_lexer": "ipython3",
   "version": "3.7.3"
  }
 },
 "nbformat": 4,
 "nbformat_minor": 5
}
