{
 "cells": [
  {
   "cell_type": "code",
   "execution_count": 1,
   "id": "739fe8e6",
   "metadata": {},
   "outputs": [],
   "source": [
    "import numpy as np\n",
    "import cv2 as cv\n",
    "img = cv.imread('img1.jpg')"
   ]
  },
  {
   "cell_type": "code",
   "execution_count": 2,
   "id": "d68408c4",
   "metadata": {},
   "outputs": [
    {
     "data": {
      "text/plain": [
       "True"
      ]
     },
     "execution_count": 2,
     "metadata": {},
     "output_type": "execute_result"
    }
   ],
   "source": [
    "img_hsv = cv.cvtColor(img, cv.COLOR_BGR2HSV)\n",
    "cv.imshow('image in HSV', img_hsv)\n",
    "cv.waitKey(0)\n",
    "cv.destroyAllWindows()\n",
    "cv.imwrite('image_hsv_out.png',img_hsv)"
   ]
  },
  {
   "cell_type": "code",
   "execution_count": 4,
   "id": "7f0428be",
   "metadata": {},
   "outputs": [
    {
     "data": {
      "text/plain": [
       "True"
      ]
     },
     "execution_count": 4,
     "metadata": {},
     "output_type": "execute_result"
    }
   ],
   "source": [
    "img_gray = cv.cvtColor(img, cv.COLOR_BGR2GRAY)\n",
    "cv.imshow('image in gray', img_gray)\n",
    "cv.waitKey(0)\n",
    "cv.destroyAllWindows()\n",
    "cv.imwrite('image_gry_out.png',img_gray)"
   ]
  },
  {
   "cell_type": "markdown",
   "id": "ebb219bc",
   "metadata": {},
   "source": [
    "### Geometric transformations"
   ]
  },
  {
   "cell_type": "code",
   "execution_count": 6,
   "id": "48edec40",
   "metadata": {},
   "outputs": [
    {
     "data": {
      "text/plain": [
       "True"
      ]
     },
     "execution_count": 6,
     "metadata": {},
     "output_type": "execute_result"
    }
   ],
   "source": [
    "height, width = img.shape[:2]\n",
    "h_scale = 0.5\n",
    "v_scale = 0.4\n",
    "new_height = (int)(height*v_scale)\n",
    "new_width = (int)(width*h_scale)\n",
    "img_resize = cv.resize(img,(new_width, new_height), interpolation = cv.INTER_LINEAR)\n",
    "cv.imshow('resize', img_resize)\n",
    "cv.waitKey(0)\n",
    "cv.destroyAllWindows()\n",
    "cv.imwrite('image_reshape_out.png',img_resize)"
   ]
  },
  {
   "cell_type": "code",
   "execution_count": 7,
   "id": "72f3713a",
   "metadata": {},
   "outputs": [],
   "source": [
    "t_x = 100\n",
    "t_y = 200\n",
    "M = np.float32([[1,0,t_x],[0,1,t_y]])"
   ]
  },
  {
   "cell_type": "code",
   "execution_count": 8,
   "id": "32aa61d6",
   "metadata": {},
   "outputs": [
    {
     "data": {
      "text/plain": [
       "True"
      ]
     },
     "execution_count": 8,
     "metadata": {},
     "output_type": "execute_result"
    }
   ],
   "source": [
    "height, width = img.shape[:2]\n",
    "img_translation = cv.warpAffine(img, M, (width, height))\n",
    "cv.imshow('translation', img_translation)\n",
    "cv.waitKey(0)\n",
    "cv.destroyAllWindows()\n",
    "cv.imwrite('image_trans_out.png',img_translation)"
   ]
  },
  {
   "cell_type": "code",
   "execution_count": 9,
   "id": "1a2b7a7d",
   "metadata": {},
   "outputs": [
    {
     "name": "stdout",
     "output_type": "stream",
     "text": [
      "(959.5, 599.5)\n"
     ]
    }
   ],
   "source": [
    "theta = 45\n",
    "c_x = (width - 1) / 2.0\n",
    "c_y = (height - 1) / 2.0\n",
    "c = (c_x, c_y)\n",
    "print(c)"
   ]
  },
  {
   "cell_type": "code",
   "execution_count": 10,
   "id": "4db6e6cf",
   "metadata": {},
   "outputs": [],
   "source": [
    "s = 1\n",
    "M = cv.getRotationMatrix2D(c, theta, s)"
   ]
  },
  {
   "cell_type": "code",
   "execution_count": 12,
   "id": "d4e8f76c",
   "metadata": {},
   "outputs": [
    {
     "data": {
      "text/plain": [
       "True"
      ]
     },
     "execution_count": 12,
     "metadata": {},
     "output_type": "execute_result"
    }
   ],
   "source": [
    "img_rotation = cv.warpAffine(img, M, (width,height))\n",
    "cv.imshow('rotation',img_rotation)\n",
    "cv.waitKey(0)\n",
    "cv.destroyAllWindows()\n",
    "cv.imwrite('image_rot_out.png',img_rotation)"
   ]
  },
  {
   "cell_type": "code",
   "execution_count": 13,
   "id": "6e31ce97",
   "metadata": {},
   "outputs": [],
   "source": [
    "m00 = 0.38\n",
    "m01 = 0.27\n",
    "m02 = -47.18\n",
    "m10 = -0.14\n",
    "m11 = 0.75\n",
    "m12 = 564.32\n",
    "M = np.float32([[m00, m01, m02], [m10, m11, m12]])"
   ]
  },
  {
   "cell_type": "code",
   "execution_count": 14,
   "id": "b9e01eb1",
   "metadata": {},
   "outputs": [
    {
     "data": {
      "text/plain": [
       "True"
      ]
     },
     "execution_count": 14,
     "metadata": {},
     "output_type": "execute_result"
    }
   ],
   "source": [
    "height, width = img.shape[:2]\n",
    "img_affine = cv.warpAffine(img, M, (width, height))\n",
    "cv.imshow('affine', img_affine)\n",
    "cv.waitKey(0)\n",
    "cv.destroyAllWindows()\n",
    "cv.imwrite('image_aff_out.png',img_affine)"
   ]
  },
  {
   "cell_type": "code",
   "execution_count": null,
   "id": "3e5b3b9e",
   "metadata": {},
   "outputs": [],
   "source": []
  }
 ],
 "metadata": {
  "kernelspec": {
   "display_name": "Python 3 (ipykernel)",
   "language": "python",
   "name": "python3"
  },
  "language_info": {
   "codemirror_mode": {
    "name": "ipython",
    "version": 3
   },
   "file_extension": ".py",
   "mimetype": "text/x-python",
   "name": "python",
   "nbconvert_exporter": "python",
   "pygments_lexer": "ipython3",
   "version": "3.7.3"
  }
 },
 "nbformat": 4,
 "nbformat_minor": 5
}
